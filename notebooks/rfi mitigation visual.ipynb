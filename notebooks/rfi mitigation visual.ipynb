{
 "cells": [
  {
   "cell_type": "markdown",
   "metadata": {},
   "source": [
    "# BLISS walkthrough\n",
    "\n",
    "The following steps are shown in this notebook:\n",
    "\n",
    "0. install dependencies\n",
    "1. load file from disk\n",
    "2. visualize data before any manipulation (rough sanity check we're interpreting files correctly)\n",
    "3. set mask bits using various flaggers (spectral kurtosis and filter roll-off)\n",
    "4. estimate noise statistics (noise floor + noise power)\n",
    "5. integrate along different drift rates\n",
    "6. :-|"
   ]
  },
  {
   "cell_type": "code",
   "execution_count": null,
   "metadata": {},
   "outputs": [],
   "source": [
    "# These are always good to have loaded and ipympl makes the interactive plots work\n",
    "\n",
    "!pip install numpy matplotlib ipympl\n",
    "# h5py hdf5plugin  scipy\n"
   ]
  },
  {
   "cell_type": "markdown",
   "metadata": {},
   "source": [
    "The following will assume this is in something like the \"notebooks\" folder inside bliss, and everything is already built in the `build/` directory of bliss"
   ]
  },
  {
   "cell_type": "code",
   "execution_count": null,
   "metadata": {},
   "outputs": [],
   "source": [
    "import sys\n",
    "if \"../build/bliss/python\" not in sys.path:\n",
    "    sys.path.append(\"../build/bliss/python/\")\n",
    "\n",
    "import pybliss\n",
    "import numpy as np\n",
    "%matplotlib widget\n",
    "import matplotlib.pyplot as plt\n",
    "\n",
    "# don't need these where we're going!\n",
    "# import h5py\n",
    "# import hdf5plugin"
   ]
  },
  {
   "cell_type": "markdown",
   "metadata": {},
   "source": [
    "Set these locations and paths according to specific data to look at..."
   ]
  },
  {
   "cell_type": "code",
   "execution_count": null,
   "metadata": {},
   "outputs": [],
   "source": [
    "data_loc = \"/home/nathan/datasets/voyager_2020_data/\"\n",
    "test_file = f\"{data_loc}/single_coarse_guppi_59046_80036_DIAG_VOYAGER-1_0011.rawspec.0000.h5\"\n"
   ]
  },
  {
   "cell_type": "code",
   "execution_count": null,
   "metadata": {},
   "outputs": [],
   "source": [
    "# We've got an internal structure that reads hdf5 and dumps it to a neat class without exposing hdf5 much\n",
    "# in c++, that class can take an already open hdf5 and I'd like to support that from h5py as well one day....\n",
    "# for now, just give a path to an hdf5 file\n",
    "# The more pressing thing is going to be reading in whole cadences at once\n",
    "filterbank_file = pybliss.filterbank_data(test_file)\n"
   ]
  },
  {
   "cell_type": "markdown",
   "metadata": {},
   "source": [
    "## Visualize data from disk\n",
    "\n",
    "This shows reading an ndarray we read from disk in our own compute format and sharing it with numpy. The `from_dlpack` method is zero-copy. When the cuda backend comes in to town, this obviously won't work for CUDA-backed ndarrays, but you'll be able to do explicit data movements to copy to cpu, load to numpy, or load it to cupy for cuda operations."
   ]
  },
  {
   "cell_type": "code",
   "execution_count": null,
   "metadata": {},
   "outputs": [],
   "source": [
    "data_arr = np.from_dlpack(filterbank_file.data)\n",
    "mask_arr = np.from_dlpack(filterbank_file.mask)\n",
    "\n",
    "plt.figure()\n",
    "plt.plot(np.mean(data_arr, 0))\n",
    "\n",
    "plt.figure()\n",
    "plt.plot(np.sum(mask_arr, 0))\n",
    "\n"
   ]
  },
  {
   "cell_type": "code",
   "execution_count": null,
   "metadata": {},
   "outputs": [],
   "source": [
    "\n",
    "\n",
    "# sec_per_spectra = abs(1 / (1e6*filterbank_file.foff))\n",
    "# N = int(filterbank_file.tsamp / sec_per_spectra)\n",
    "# M = filterbank_file.data.size(0)\n",
    "# print(N)\n",
    "\n",
    "# sk = pybliss.estimators.estimate_spectral_kurtosis(filterbank_file.data, 51, M)\n",
    "\n",
    "# plt.figure()\n",
    "# plt.title(\"Spectral Kurtosis across Channel\")\n",
    "# plt.plot(np.from_dlpack(sk))\n",
    "\n",
    "# plt.plot(np.from_dlpack(sk) > 2)\n",
    "# plt.plot(np.from_dlpack(sk) < 0.05)"
   ]
  },
  {
   "cell_type": "code",
   "execution_count": null,
   "metadata": {},
   "outputs": [],
   "source": [
    "\n",
    "\n",
    "flagged_filterbank = pybliss.flaggers.flag_spectral_kurtosis(filterbank_file, 0.05, 5)\n",
    "\n",
    "flagged_filterbank = pybliss.flaggers.flag_filter_rolloff(filterbank_file, 0.20)\n",
    "\n"
   ]
  },
  {
   "cell_type": "code",
   "execution_count": null,
   "metadata": {},
   "outputs": [],
   "source": [
    "mask = np.from_dlpack(flagged_filterbank.mask)\n",
    "\n",
    "print(mask.sum())\n",
    "print(mask.shape)\n",
    "\n",
    "plt.figure()\n",
    "plt.title(\"Flags across channel\")\n",
    "plt.plot(mask.mean(0))"
   ]
  },
  {
   "cell_type": "code",
   "execution_count": null,
   "metadata": {},
   "outputs": [],
   "source": [
    "noise_est_slice = data_arr[:, 200000:500000]\n",
    "\n",
    "print(noise_est_slice.shape)\n"
   ]
  },
  {
   "cell_type": "code",
   "execution_count": null,
   "metadata": {},
   "outputs": [],
   "source": [
    "print(np.mean(noise_est_slice))\n",
    "m = pybliss.bland.mean(np.array(noise_est_slice))\n",
    "print(np.from_dlpack(m))\n",
    "\n",
    "print(np.sum(noise_est_slice) / noise_est_slice.size)\n",
    "\n",
    "# numpy: 5507229.0\n",
    "# np sum / size: 5507229.067946667\n",
    "\n",
    "# with scale-as-you-go\n",
    "# with float accumulator: 5450137.5\n",
    "# with double accumulator: 5507228.5\n",
    "\n",
    "# with scale-after\n",
    "# with float accumulator: 5546422.5\n",
    "# with double accumulator: 5507227.5\n",
    "\n"
   ]
  },
  {
   "cell_type": "code",
   "execution_count": null,
   "metadata": {},
   "outputs": [],
   "source": [
    "\n",
    "print(f\"noise magnitude of cropped spectrum: {np.mean(noise_est_slice)/1e6}\")\n",
    "print(f\"noise power of cropped spectrum: {np.std(noise_est_slice)/1e6}\")\n"
   ]
  },
  {
   "cell_type": "code",
   "execution_count": null,
   "metadata": {},
   "outputs": [],
   "source": [
    "noise_est_options = pybliss.estimators.noise_power_estimate_options()\n",
    "noise_est_options.masked_estimate = False\n",
    "noise_est_options.estimator_method = pybliss.estimators.noise_power_estimator.stddev\n",
    "noise_stats = pybliss.estimators.estimate_noise_power(flagged_filterbank, noise_est_options)\n",
    "\n",
    "print(f\"noise magnitude of spectrum (estimated without rfi mask): \\t{noise_stats.noise_floor/1e6}\")\n",
    "print(f\"noise power of spectrum (estimated without rfi mask): \\t\\t{noise_stats.noise_power/1e6}\")\n",
    "print(\"---\")\n",
    "\n",
    "noise_est_options = pybliss.estimators.noise_power_estimate_options()\n",
    "noise_est_options.masked_estimate = True\n",
    "noise_est_options.estimator_method = pybliss.estimators.noise_power_estimator.stddev\n",
    "noise_stats = pybliss.estimators.estimate_noise_power(flagged_filterbank, noise_est_options)\n",
    "\n",
    "print(f\"noise magnitude of spectrum (estimated using rfi mask): \\t{noise_stats.noise_floor/1e6}\")\n",
    "print(f\"noise power of spectrum (estimated using rfi mask): \\t\\t{noise_stats.noise_power/1e6}\")\n",
    "print(\"---\")\n",
    "\n",
    "noise_est_options = pybliss.estimators.noise_power_estimate_options()\n",
    "noise_est_options.masked_estimate = False\n",
    "noise_est_options.estimator_method = pybliss.estimators.noise_power_estimator.mad\n",
    "noise_stats = pybliss.estimators.estimate_noise_power(flagged_filterbank.data, noise_est_options)\n",
    "\n",
    "print(f\"noise magnitude of spectrum (estimated using MAD w/o mask): \\t{noise_stats.noise_floor/1e6}\")\n",
    "print(f\"noise power of spectrum (estimated using MAD w/o mask): \\t{noise_stats.noise_power/1e6}\")\n",
    "print(\"---\")\n"
   ]
  },
  {
   "cell_type": "code",
   "execution_count": null,
   "metadata": {},
   "outputs": [],
   "source": [
    "noise_est_options = pybliss.estimators.noise_power_estimate_options()\n",
    "noise_est_options.masked_estimate = False\n",
    "noise_est_options.estimator_method = pybliss.estimators.noise_power_estimator.stddev\n",
    "noise_stats = pybliss.estimators.estimate_noise_power(np.array(noise_est_slice), noise_est_options)\n",
    "\n",
    "print(noise_stats.noise_floor)\n"
   ]
  },
  {
   "cell_type": "code",
   "execution_count": null,
   "metadata": {},
   "outputs": [],
   "source": []
  },
  {
   "cell_type": "code",
   "execution_count": null,
   "metadata": {},
   "outputs": [],
   "source": [
    "opts = pybliss.integrate_drifts_options()\n",
    "opts.desmear = True\n",
    "opts.low_rate = 0\n",
    "opts.high_rate = 48\n",
    "opts.rate_step_size = 1\n",
    "\n",
    "dedrift = pybliss.drift_search.integrate_drifts(flagged_filterbank, opts)"
   ]
  },
  {
   "cell_type": "code",
   "execution_count": null,
   "metadata": {},
   "outputs": [],
   "source": [
    "det_plane_with_smear_correction = np.from_dlpack(dedrift.dedrifted_spectrum())\n",
    "\n",
    "print(det_plane_with_smear_correction.shape)"
   ]
  },
  {
   "cell_type": "code",
   "execution_count": null,
   "metadata": {},
   "outputs": [],
   "source": [
    "\n",
    "voyager_expect = 660000\n",
    "\n",
    "fig, (ax1, ax2) = plt.subplots(2, 1, sharex=True)\n",
    "\n",
    "\n",
    "ax1.set_title(\"1d detection down max(time) with smear correction\")\n",
    "ax1.plot(det_plane_with_smear_correction[:, voyager_expect-10000:voyager_expect+10000].max(0)/16)\n",
    "plt.margins(0)\n",
    "\n",
    "ax2.set_title(\"2d detection plane with smear correction\")\n",
    "ax2.imshow(det_plane_with_smear_correction[:, voyager_expect-10000:voyager_expect+10000], aspect=\"auto\", interpolation=None, cmap=\"turbo\")\n",
    "\n",
    "\n"
   ]
  },
  {
   "cell_type": "code",
   "execution_count": null,
   "metadata": {},
   "outputs": [],
   "source": [
    "plt.figure()\n",
    "_ = plt.hist(noise_est_slice.flatten(), bins=int(np.power(300000, 1/3)))"
   ]
  }
 ],
 "metadata": {
  "kernelspec": {
   "display_name": ".venv",
   "language": "python",
   "name": "python3"
  },
  "language_info": {
   "codemirror_mode": {
    "name": "ipython",
    "version": 3
   },
   "file_extension": ".py",
   "mimetype": "text/x-python",
   "name": "python",
   "nbconvert_exporter": "python",
   "pygments_lexer": "ipython3",
   "version": "3.11.4"
  }
 },
 "nbformat": 4,
 "nbformat_minor": 2
}
