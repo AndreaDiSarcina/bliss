{
 "cells": [
  {
   "cell_type": "code",
   "execution_count": null,
   "metadata": {},
   "outputs": [],
   "source": [
    "!pip install numpy matplotlib ipympl\n",
    "# h5py hdf5plugin  scipy\n"
   ]
  },
  {
   "cell_type": "code",
   "execution_count": null,
   "metadata": {},
   "outputs": [],
   "source": [
    "import sys"
   ]
  },
  {
   "cell_type": "code",
   "execution_count": null,
   "metadata": {},
   "outputs": [],
   "source": [
    "sys.path.append(\"../build/bliss/python/\")"
   ]
  },
  {
   "cell_type": "code",
   "execution_count": null,
   "metadata": {},
   "outputs": [],
   "source": [
    "# import pybland\n",
    "import pybliss\n",
    "import numpy as np\n",
    "%matplotlib widget\n",
    "import matplotlib.pyplot as plt\n",
    "# import h5py\n",
    "# import hdf5plugin"
   ]
  },
  {
   "cell_type": "code",
   "execution_count": null,
   "metadata": {},
   "outputs": [],
   "source": [
    "data_loc = \"/home/nathan/datasets/voyager_2020_data/\"\n",
    "test_file = f\"{data_loc}/single_coarse_guppi_59046_80036_DIAG_VOYAGER-1_0011.rawspec.0000.h5\"\n"
   ]
  },
  {
   "cell_type": "code",
   "execution_count": null,
   "metadata": {},
   "outputs": [],
   "source": [
    "help(pybliss.io.h5_filterbank_file)"
   ]
  },
  {
   "cell_type": "code",
   "execution_count": null,
   "metadata": {},
   "outputs": [],
   "source": [
    "filterbank_file = pybliss.io.filterbank_data(test_file)\n",
    "\n",
    "sec_per_spectra = abs(1 / (1e6*filterbank_file.foff))\n",
    "N = filterbank_file.tsamp / sec_per_spectra\n",
    "M = filterbank_file.data.size(0)\n",
    "\n",
    "sk = pybliss.estimators.spectral_kurtosis(filterbank_file.data, N, M)\n",
    "\n",
    "plt.figure()\n",
    "plt.title(\"Spectral Kurtosis across Channel\")\n",
    "plt.plot(np.from_dlpack(sk))\n",
    "\n",
    "plt.plot(np.from_dlpack(sk) > 2)\n",
    "plt.plot(np.from_dlpack(sk) < 0.05)"
   ]
  },
  {
   "cell_type": "code",
   "execution_count": null,
   "metadata": {},
   "outputs": [],
   "source": [
    "\n",
    "\n",
    "##\n",
    "# TODO: broadcasted copy to store results\n",
    "##\n",
    "flagged_filterbank = pybliss.flaggers.flag(filterbank_file, .05, 50)\n",
    "\n",
    "# plt.figure()\n",
    "# plt.title(\"Spectral Kurtosis across Channel\")\n",
    "# plt.plot(np.from_dlpack(sk))"
   ]
  },
  {
   "cell_type": "code",
   "execution_count": null,
   "metadata": {},
   "outputs": [],
   "source": []
  }
 ],
 "metadata": {
  "kernelspec": {
   "display_name": ".venv",
   "language": "python",
   "name": "python3"
  },
  "language_info": {
   "codemirror_mode": {
    "name": "ipython",
    "version": 3
   },
   "file_extension": ".py",
   "mimetype": "text/x-python",
   "name": "python",
   "nbconvert_exporter": "python",
   "pygments_lexer": "ipython3",
   "version": "3.11.4"
  }
 },
 "nbformat": 4,
 "nbformat_minor": 2
}
