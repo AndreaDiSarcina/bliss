{
 "cells": [
  {
   "cell_type": "markdown",
   "metadata": {},
   "source": [
    "# BLISS walkthrough\n",
    "\n",
    "The following steps are shown in this notebook:\n",
    "\n",
    "0. install dependencies\n",
    "1. load file from disk\n",
    "2. visualize data before any manipulation (rough sanity check we're interpreting files correctly)\n",
    "3. set mask bits using various flaggers (spectral kurtosis and filter roll-off)\n",
    "4. estimate noise statistics (noise floor + noise power)\n",
    "5. integrate along different drift rates\n",
    "6. :-|"
   ]
  },
  {
   "cell_type": "code",
   "execution_count": 1,
   "metadata": {},
   "outputs": [
    {
     "name": "stdout",
     "output_type": "stream",
     "text": [
      "Requirement already satisfied: numpy in /home/nathan/quadraturedev/customers/seti/bliss/.venv/lib/python3.11/site-packages (1.26.2)\n",
      "Requirement already satisfied: matplotlib in /home/nathan/quadraturedev/customers/seti/bliss/.venv/lib/python3.11/site-packages (3.8.1)\n",
      "Requirement already satisfied: ipympl in /home/nathan/quadraturedev/customers/seti/bliss/.venv/lib/python3.11/site-packages (0.9.3)\n",
      "Requirement already satisfied: contourpy>=1.0.1 in /home/nathan/quadraturedev/customers/seti/bliss/.venv/lib/python3.11/site-packages (from matplotlib) (1.2.0)\n",
      "Requirement already satisfied: cycler>=0.10 in /home/nathan/quadraturedev/customers/seti/bliss/.venv/lib/python3.11/site-packages (from matplotlib) (0.12.1)\n",
      "Requirement already satisfied: fonttools>=4.22.0 in /home/nathan/quadraturedev/customers/seti/bliss/.venv/lib/python3.11/site-packages (from matplotlib) (4.44.3)\n",
      "Requirement already satisfied: kiwisolver>=1.3.1 in /home/nathan/quadraturedev/customers/seti/bliss/.venv/lib/python3.11/site-packages (from matplotlib) (1.4.5)\n",
      "Requirement already satisfied: packaging>=20.0 in /home/nathan/quadraturedev/customers/seti/bliss/.venv/lib/python3.11/site-packages (from matplotlib) (23.2)\n",
      "Requirement already satisfied: pillow>=8 in /home/nathan/quadraturedev/customers/seti/bliss/.venv/lib/python3.11/site-packages (from matplotlib) (10.1.0)\n",
      "Requirement already satisfied: pyparsing>=2.3.1 in /home/nathan/quadraturedev/customers/seti/bliss/.venv/lib/python3.11/site-packages (from matplotlib) (2.4.7)\n",
      "Requirement already satisfied: python-dateutil>=2.7 in /home/nathan/quadraturedev/customers/seti/bliss/.venv/lib/python3.11/site-packages (from matplotlib) (2.8.2)\n",
      "Requirement already satisfied: ipython<9 in /home/nathan/quadraturedev/customers/seti/bliss/.venv/lib/python3.11/site-packages (from ipympl) (8.17.2)\n",
      "Requirement already satisfied: ipython-genutils in /home/nathan/quadraturedev/customers/seti/bliss/.venv/lib/python3.11/site-packages (from ipympl) (0.2.0)\n",
      "Requirement already satisfied: traitlets<6 in /home/nathan/quadraturedev/customers/seti/bliss/.venv/lib/python3.11/site-packages (from ipympl) (5.13.0)\n",
      "Requirement already satisfied: ipywidgets<9,>=7.6.0 in /home/nathan/quadraturedev/customers/seti/bliss/.venv/lib/python3.11/site-packages (from ipympl) (8.1.1)\n",
      "Requirement already satisfied: decorator in /home/nathan/quadraturedev/customers/seti/bliss/.venv/lib/python3.11/site-packages (from ipython<9->ipympl) (5.1.1)\n",
      "Requirement already satisfied: jedi>=0.16 in /home/nathan/quadraturedev/customers/seti/bliss/.venv/lib/python3.11/site-packages (from ipython<9->ipympl) (0.19.1)\n",
      "Requirement already satisfied: matplotlib-inline in /home/nathan/quadraturedev/customers/seti/bliss/.venv/lib/python3.11/site-packages (from ipython<9->ipympl) (0.1.6)\n",
      "Requirement already satisfied: prompt-toolkit!=3.0.37,<3.1.0,>=3.0.30 in /home/nathan/quadraturedev/customers/seti/bliss/.venv/lib/python3.11/site-packages (from ipython<9->ipympl) (3.0.41)\n",
      "Requirement already satisfied: pygments>=2.4.0 in /home/nathan/quadraturedev/customers/seti/bliss/.venv/lib/python3.11/site-packages (from ipython<9->ipympl) (2.16.1)\n",
      "Requirement already satisfied: stack-data in /home/nathan/quadraturedev/customers/seti/bliss/.venv/lib/python3.11/site-packages (from ipython<9->ipympl) (0.6.3)\n",
      "Requirement already satisfied: pexpect>4.3 in /home/nathan/quadraturedev/customers/seti/bliss/.venv/lib/python3.11/site-packages (from ipython<9->ipympl) (4.8.0)\n",
      "Requirement already satisfied: comm>=0.1.3 in /home/nathan/quadraturedev/customers/seti/bliss/.venv/lib/python3.11/site-packages (from ipywidgets<9,>=7.6.0->ipympl) (0.2.0)\n",
      "Requirement already satisfied: widgetsnbextension~=4.0.9 in /home/nathan/quadraturedev/customers/seti/bliss/.venv/lib/python3.11/site-packages (from ipywidgets<9,>=7.6.0->ipympl) (4.0.9)\n",
      "Requirement already satisfied: jupyterlab-widgets~=3.0.9 in /home/nathan/quadraturedev/customers/seti/bliss/.venv/lib/python3.11/site-packages (from ipywidgets<9,>=7.6.0->ipympl) (3.0.9)\n",
      "Requirement already satisfied: six>=1.5 in /home/nathan/quadraturedev/customers/seti/bliss/.venv/lib/python3.11/site-packages (from python-dateutil>=2.7->matplotlib) (1.16.0)\n",
      "Requirement already satisfied: parso<0.9.0,>=0.8.3 in /home/nathan/quadraturedev/customers/seti/bliss/.venv/lib/python3.11/site-packages (from jedi>=0.16->ipython<9->ipympl) (0.8.3)\n",
      "Requirement already satisfied: ptyprocess>=0.5 in /home/nathan/quadraturedev/customers/seti/bliss/.venv/lib/python3.11/site-packages (from pexpect>4.3->ipython<9->ipympl) (0.7.0)\n",
      "Requirement already satisfied: wcwidth in /home/nathan/quadraturedev/customers/seti/bliss/.venv/lib/python3.11/site-packages (from prompt-toolkit!=3.0.37,<3.1.0,>=3.0.30->ipython<9->ipympl) (0.2.10)\n",
      "Requirement already satisfied: executing>=1.2.0 in /home/nathan/quadraturedev/customers/seti/bliss/.venv/lib/python3.11/site-packages (from stack-data->ipython<9->ipympl) (2.0.1)\n",
      "Requirement already satisfied: asttokens>=2.1.0 in /home/nathan/quadraturedev/customers/seti/bliss/.venv/lib/python3.11/site-packages (from stack-data->ipython<9->ipympl) (2.4.1)\n",
      "Requirement already satisfied: pure-eval in /home/nathan/quadraturedev/customers/seti/bliss/.venv/lib/python3.11/site-packages (from stack-data->ipython<9->ipympl) (0.2.2)\n"
     ]
    }
   ],
   "source": [
    "# These are always good to have loaded and ipympl makes the interactive plots work\n",
    "\n",
    "!pip install numpy matplotlib ipympl\n",
    "# h5py hdf5plugin  scipy\n"
   ]
  },
  {
   "cell_type": "markdown",
   "metadata": {},
   "source": [
    "The following will assume this is in something like the \"notebooks\" folder inside bliss, and everything is already built in the `build/` directory of bliss"
   ]
  },
  {
   "cell_type": "code",
   "execution_count": 2,
   "metadata": {},
   "outputs": [],
   "source": [
    "import sys\n",
    "if \"../build/bliss/python\" not in sys.path:\n",
    "    sys.path.append(\"../build/bliss/python/\")\n",
    "\n",
    "import pybliss\n",
    "import numpy as np\n",
    "%matplotlib widget\n",
    "import matplotlib.pyplot as plt\n",
    "\n",
    "# don't need these where we're going!\n",
    "# import h5py\n",
    "# import hdf5plugin"
   ]
  },
  {
   "cell_type": "markdown",
   "metadata": {},
   "source": [
    "Set these locations and paths according to specific data to look at..."
   ]
  },
  {
   "cell_type": "code",
   "execution_count": 3,
   "metadata": {},
   "outputs": [],
   "source": [
    "data_loc = \"/home/nathan/datasets/voyager_2020_data/\"\n",
    "test_file = f\"{data_loc}/single_coarse_guppi_59046_80036_DIAG_VOYAGER-1_0011.rawspec.0000.h5\"\n"
   ]
  },
  {
   "cell_type": "code",
   "execution_count": 4,
   "metadata": {},
   "outputs": [],
   "source": [
    "# We've got an internal structure that reads hdf5 and dumps it to a neat class without exposing hdf5 much\n",
    "# in c++, that class can take an already open hdf5 and I'd like to support that from h5py as well one day....\n",
    "# for now, just give a path to an hdf5 file\n",
    "# The more pressing thing is going to be reading in whole cadences at once\n",
    "filterbank_file = pybliss.filterbank_data(test_file)\n"
   ]
  },
  {
   "cell_type": "markdown",
   "metadata": {},
   "source": [
    "## Visualize data from disk\n",
    "\n",
    "This shows reading an ndarray we read from disk in our own compute format and sharing it with numpy. The `from_dlpack` method is zero-copy. When the cuda backend comes in to town, this obviously won't work for CUDA-backed ndarrays, but you'll be able to do explicit data movements to copy to cpu, load to numpy, or load it to cupy for cuda operations."
   ]
  },
  {
   "cell_type": "code",
   "execution_count": 5,
   "metadata": {},
   "outputs": [
    {
     "name": "stderr",
     "output_type": "stream",
     "text": [
      "/home/nathan/quadraturedev/customers/seti/bliss/.venv/lib/python3.11/site-packages/numpy/core/getlimits.py:549: UserWarning: The value of the smallest subnormal for <class 'numpy.float64'> type is zero.\n",
      "  setattr(self, word, getattr(machar, word).flat[0])\n",
      "/home/nathan/quadraturedev/customers/seti/bliss/.venv/lib/python3.11/site-packages/numpy/core/getlimits.py:89: UserWarning: The value of the smallest subnormal for <class 'numpy.float64'> type is zero.\n",
      "  return self._float_to_str(self.smallest_subnormal)\n"
     ]
    },
    {
     "data": {
      "text/plain": [
       "[<matplotlib.lines.Line2D at 0x7f2d13f4b790>]"
      ]
     },
     "execution_count": 5,
     "metadata": {},
     "output_type": "execute_result"
    },
    {
     "data": {
      "application/vnd.jupyter.widget-view+json": {
       "model_id": "17db375387b44d51a57339dd00714cf7",
       "version_major": 2,
       "version_minor": 0
      },
      "image/png": "[encoded data removed]",
      "text/html": [
       "\n",
       "            <div style=\"display: inline-block;\">\n",
       "                <div class=\"jupyter-widgets widget-label\" style=\"text-align: center;\">\n",
       "                    Figure\n",
       "                </div>\n",
       "                <img src='data:image/png;base64,iVBORw0KGgoAAAANSUhEUgAAAoAAAAHgCAYAAAA10dzkAAAAOXRFWHRTb2Z0d2FyZQBNYXRwbG90bGliIHZlcnNpb24zLjguMSwgaHR0cHM6Ly9tYXRwbG90bGliLm9yZy/SrBM8AAAACXBIWXMAAA9hAAAPYQGoP6dpAAAqg0lEQVR4nO3df3RU9Z3/8dckIRMomZGI+cmA/JBf8isGgQEpYGMjZVlyetZy0DXUBVrbsF+UtdaIK1XUoIjgsQilFCJrMYor0CLyw9jAKlELkm8DWhShBDQT4FvJkFSHkNzvHy6jgSQSzMxN5vN8nHPPcW7unXnPJck8vfMjDsuyLAEAAMAYUXYPAAAAgPAiAAEAAAxDAAIAABiGAAQAADAMAQgAAGAYAhAAAMAwBCAAAIBhCEAAAADDEIAAAACGIQABAAAMQwACAAAYhgAEAAAwDAEIAABgGAIQAADAMAQgAACAYQhAAAAAwxCAAAAAhiEAAQAADEMAAgAAGIYABAAAMAwBCAAAYBgCEAAAwDAEIAAAgGEIQAAAAMMQgAAAAIYhAAEAAAxDAAIAABiGAAQAADAMAQgAAGAYAhAAAMAwBCAAAIBhCEAAAADDEIAAAACGIQABAAAMQwACAAAYhgAEAAAwDAEIAABgGAIQAADAMAQgAACAYQhAAAAAwxCAAAAAhiEAAQAADEMAtpJdu3Zp8uTJSk1NlcPh0MaNG1t8HS+99JKGDRumTp06qUePHlq0aFHrDwoAAIxHALaSmpoaDR06VMuWLbus/V977TXddtttuvPOO7V//349++yzWrJkiX7961+38qQAAMB0DsuyLLuHiDQOh0MbNmxQdnZ2cF0gENC8efP0wgsv6PTp0xo0aJAef/xxjR8/XpJ06623qra2VuvXrw/u88wzz+iJJ55QeXm5HA5HmO8FAACIVJwBDJPZs2erpKREhYWF+stf/qJbbrlFN998sz766CNJXwZiXFxcg306duyo48eP6+jRo3aMDAAAIhQBGAbl5eVas2aN1q9fr7Fjx6p379665557dMMNN2jNmjWSpKysLL3yyisqKipSfX29PvzwQy1evFiSVFFRYef4AAAgwsTYPYAJysrKVFdXp759+zZYHwgEdOWVV0qSZs2apY8//lj/9E//pNraWrlcLs2ZM0e/+tWvFBVFpwMAgNZDAIZBdXW1oqOjtXfvXkVHRzf4WufOnSV9+brBxx9/XI899ph8Pp+uuuoqFRUVSZJ69eoV9pkBAEDkIgDDID09XXV1dTpx4oTGjh3b7LbR0dFKS0uTJL3wwgvyer266qqrwjEmAAAwBAHYSqqrq3Xo0KHg5SNHjqi0tFQJCQnq27evbrvtNuXk5Gjx4sVKT0/XyZMnVVRUpCFDhmjSpEk6deqUXn75ZY0fP15ffPFF8DWDO3futPFeAQCASMTHwLSS4uJiTZgw4aL106dPV0FBgWpra/XII49o7dq1+uSTT9S1a1eNGjVKDz30kAYPHqxTp05p8uTJKisrk2VZ8nq9evTRRzVy5Egb7g0AAIhkBCAAAIBheHspAACAYQhAAAAAwxCAAAAAhuFdwN9CfX29Pv30U8XHx/O3egEAaCcsy9KZM2eUmppq7B9bIAC/hU8//VQej8fuMQAAwGU4duyYunXrZvcYtiAAv4X4+HhJX34DuVwum6cBAACXwu/3y+PxBB/HTUQAfgvnn/Z1uVwEIAAA7YzJL98y84lvAAAAgxGAAAAAhiEAAQAADEMAAgAAGIYABAAAMAwBCAAAYBgCEAAAwDAEIAAAgGEIQAAAAMMQgAAAAIYhAAEAAAxDAAIAABgmIgJw+fLlGjJkiFwul1wul7xer1577bUmty8oKJDD4WiwxMXFhXFiAG3di38u14t/Lrd7DAAIiRi7B2gN3bp108KFC3XNNdfIsiw999xzmjJlivbt26drr7220X1cLpcOHjwYvOxwOMI1LoA27swXtfrlf5dJkn4wOEXxcR1snggAWldEBODkyZMbXH700Ue1fPlyvf32200GoMPhUHJycjjGA9DOBM7VN/jveBtnAYBQiIingL+urq5OhYWFqqmpkdfrbXK76upq9ejRQx6PR1OmTNGBAwe+8boDgYD8fn+DBQAAoL2JmAAsKytT586d5XQ6deedd2rDhg0aOHBgo9v269dPq1ev1qZNm/T888+rvr5eo0eP1vHjx5u9jfz8fLnd7uDi8XhCcVcAAABCymFZlmX3EK3h7NmzKi8vV1VVlV5++WWtWrVKO3fubDICv662tlYDBgzQtGnTtGDBgia3CwQCCgQCwct+v18ej0dVVVVyuVytcj8A2O9UdUDDH3ldkrTngUx17ey0eSIArcnv98vtdhv9+B0RrwGUpNjYWPXp00eSlJGRoT//+c96+umn9Zvf/OYb9+3QoYPS09N16NChZrdzOp1yOnkgAAAA7VvEPAV8ofr6+gZn65pTV1ensrIypaSkhHgqAAAA+0XEGcC8vDxNnDhR3bt315kzZ7Ru3ToVFxdr27ZtkqScnBylpaUpPz9fkvTwww9r1KhR6tOnj06fPq1Fixbp6NGjmjlzpp13AwAAICwiIgBPnDihnJwcVVRUyO12a8iQIdq2bZtuuukmSVJ5ebmior462fnZZ59p1qxZ8vl86tKlizIyMrR79+5Ler0gAABAexcxbwKxAy8iBSITbwIBIhuP3xH8GkAAAAA0jgAEAAAwDAEIAABgGAIQAADAMAQgAACAYQhAAAAAwxCAAAAAhiEAAQAADEMAAgAAGIYABAAAMAwBCAAAYBgCEAAAwDAEIAAAgGEIQAAAAMMQgAAAAIYhAAEAAAxDAAIAABiGAAQAADAMAQgAAGAYAhAAAMAwBCAAAIBhCEAAuIDD7gEAIMQIQAAAAMMQgADQDMuyewIAaH0EIAAAgGEIQAAAAMMQgAAAAIYhAAEAAAxDAAIAABiGAAQAADAMAQgAAGAYAhAAAMAwBCAAAIBhCEAAAADDEIAAAACGIQABAAAMExEBuHz5cg0ZMkQul0sul0ter1evvfZas/usX79e/fv3V1xcnAYPHqwtW7aEaVoAAAB7RUQAduvWTQsXLtTevXu1Z88e3XjjjZoyZYoOHDjQ6Pa7d+/WtGnTNGPGDO3bt0/Z2dnKzs7W/v37wzw5AABA+Dksy7LsHiIUEhIStGjRIs2YMeOir02dOlU1NTXavHlzcN2oUaM0bNgwrVix4pJvw+/3y+12q6qqSi6Xq1XmBmC//1cdUMYjr0uS/jwvU1fFO22eCEBr4vE7Qs4Afl1dXZ0KCwtVU1Mjr9fb6DYlJSXKzMxssC4rK0slJSXhGBEAAMBWMXYP0FrKysrk9Xr1xRdfqHPnztqwYYMGDhzY6LY+n09JSUkN1iUlJcnn8zV7G4FAQIFAIHjZ7/d/+8EBAADCLGLOAPbr10+lpaV655139LOf/UzTp0/X+++/36q3kZ+fL7fbHVw8Hk+rXj8AAEA4REwAxsbGqk+fPsrIyFB+fr6GDh2qp59+utFtk5OTVVlZ2WBdZWWlkpOTm72NvLw8VVVVBZdjx4612vwAAADhEjEBeKH6+voGT9d+ndfrVVFRUYN1O3bsaPI1g+c5nc7gR82cXwAAANqbiHgNYF5eniZOnKju3bvrzJkzWrdunYqLi7Vt2zZJUk5OjtLS0pSfny9JmjNnjsaNG6fFixdr0qRJKiws1J49e7Ry5Uo77wYAAEBYREQAnjhxQjk5OaqoqJDb7daQIUO0bds23XTTTZKk8vJyRUV9dbJz9OjRWrdunR544AHdf//9uuaaa7Rx40YNGjTIrrsAAAAQNhH7OYDhwOcIAZGJzwEEIhuP3xH8GkAAAAA0jgAEAAAwDAEIAABgGAIQAADAMAQgAACAYQhAALiAw+GwewQACCkCEAAAwDAEIAAAgGEIQAAAAMMQgAAAAIYhAAGgGZb4a5kAIg8BCAAAYBgCEAAAwDAEIAAAgGEIQAAAAMMQgAAAAIYhAAEAAAxDAAIAABiGAAQAADAMAQgAAGAYAhAAAMAwBCAAAIBhCEAAAADDEIAAAACGIQABAAAMQwACAAAYhgAEAAAwDAEIAABgGAIQAADAMAQgAACAYQhAAAAAwxCAAAAAhiEAAQAADEMAAgAAGIYABAAAMAwBCAAXcNg9AACEGAEIAABgmIgIwPz8fF1//fWKj49XYmKisrOzdfDgwWb3KSgokMPhaLDExcWFaWIAAAD7REQA7ty5U7m5uXr77be1Y8cO1dbW6vvf/75qamqa3c/lcqmioiK4HD16NEwTAwAA2CfG7gFaw9atWxtcLigoUGJiovbu3avvfve7Te7ncDiUnJwc6vEAAADalIg4A3ihqqoqSVJCQkKz21VXV6tHjx7yeDyaMmWKDhw40Oz2gUBAfr+/wQIAANDeRFwA1tfX66677tKYMWM0aNCgJrfr16+fVq9erU2bNun5559XfX29Ro8erePHjze5T35+vtxud3DxeDyhuAsAAAAh5bAsy7J7iNb0s5/9TK+99prefPNNdevW7ZL3q62t1YABAzRt2jQtWLCg0W0CgYACgUDwst/vl8fjUVVVlVwu17eeHUDb8FnNWaUv2CFJenfe95QYzxvEgEji9/vldruNfvyOiNcAnjd79mxt3rxZu3btalH8SVKHDh2Unp6uQ4cONbmN0+mU0+n8tmMCAADYKiKeArYsS7Nnz9aGDRv0xhtvqGfPni2+jrq6OpWVlSklJSUEEwJotyLqORIA+FJEnAHMzc3VunXrtGnTJsXHx8vn80mS3G63OnbsKEnKyclRWlqa8vPzJUkPP/ywRo0apT59+uj06dNatGiRjh49qpkzZ9p2PwAAAMIhIgJw+fLlkqTx48c3WL9mzRr9+Mc/liSVl5crKuqrE56fffaZZs2aJZ/Ppy5duigjI0O7d+/WwIEDwzU2AACALSIiAC/lfSzFxcUNLi9ZskRLliwJ0UQAAABtV0S8BhAAAACXjgAEAAAwDAEIAABgGAIQAADAMAQgAACAYQhAAAAAwxCAAAAAhiEAAQAADEMAAgAAGIYABAAAMAwBCAAAYBgCEAAAwDAEIAAAgGEIQAAAAMMQgAAAAIYhAAEAAAxDAAIAABiGAAQAADAMAQgAF3A47J4AAEKLAAQAADAMAQgAAGAYAhAAAMAwBCAAAIBhCEAAAADDEIAAAACGIQABAAAMQwACAAAYhgAEAAAwDAEIAABgGAIQAJph2T0AAIQAAQgAAGAYAhAAAMAwBCAAAIBhCEAAAADDEIAAAACGIQABAAAMQwACAAAYJiICMD8/X9dff73i4+OVmJio7OxsHTx48Bv3W79+vfr376+4uDgNHjxYW7ZsCcO0AAAA9oqIANy5c6dyc3P19ttva8eOHaqtrdX3v/991dTUNLnP7t27NW3aNM2YMUP79u1Tdna2srOztX///jBODgAAEH4Oy7Ii7oPuT548qcTERO3cuVPf/e53G91m6tSpqqmp0ebNm4PrRo0apWHDhmnFihWXdDt+v19ut1tVVVVyuVytMjsA+53+x1kNe3iHJOmd+7+nJFeczRMBaE08fkfIGcALVVVVSZISEhKa3KakpESZmZkN1mVlZamkpKTJfQKBgPx+f4MFAACgvYm4AKyvr9ddd92lMWPGaNCgQU1u5/P5lJSU1GBdUlKSfD5fk/vk5+fL7XYHF4/H02pzAwAAhEvEBWBubq7279+vwsLCVr/uvLw8VVVVBZdjx461+m0AAACEWozdA7Sm2bNna/Pmzdq1a5e6devW7LbJycmqrKxssK6yslLJyclN7uN0OuV0OltlVgAAALtExBlAy7I0e/ZsbdiwQW+88YZ69uz5jft4vV4VFRU1WLdjxw55vd5QjQkAANAmRMQZwNzcXK1bt06bNm1SfHx88HV8brdbHTt2lCTl5OQoLS1N+fn5kqQ5c+Zo3LhxWrx4sSZNmqTCwkLt2bNHK1eutO1+AAAAhENEnAFcvny5qqqqNH78eKWkpASXF198MbhNeXm5KioqgpdHjx6tdevWaeXKlRo6dKhefvllbdy4sdk3jgAAAESCiDgDeCkfZVhcXHzRultuuUW33HJLCCYCAABouyLiDCAAAAAuHQEIABdwyGH3CAAQUgQgAACAYQhAAAAAwxCAAAAAhiEAAQAADEMAAgAAGIYABAAAMAwBCAAAYBgCEAAAwDAEIAAAgGEIQAAAAMMQgAAAAIYhAAEAAAxDAAIAABiGAASAZliW3RMAQOsjAAEAAAxDAAIAABiGAAQAADAMAQgAAGAYAhAAAMAwBCAAAIBhCEAAAADDEIAAAACGIQABAAAMQwACAAAYhgAEAAAwDAEIAABgGAIQAADAMAQgAACAYQhAAAAAwxCAAHAhh90DAEBoEYAAAACGIQABAAAMQwACAAAYhgAEAAAwTMQE4K5duzR58mSlpqbK4XBo48aNzW5fXFwsh8Nx0eLz+cIzMAAAgE0iJgBramo0dOhQLVu2rEX7HTx4UBUVFcElMTExRBMCAAC0DTF2D9BaJk6cqIkTJ7Z4v8TERF1xxRWtPxAAAEAbFTFnAC/XsGHDlJKSoptuuklvvfWW3eMAAACEXMScAWyplJQUrVixQsOHD1cgENCqVas0fvx4vfPOO7ruuusa3ScQCCgQCAQv+/3+cI0LAADQaowNwH79+qlfv37By6NHj9bHH3+sJUuW6L/+678a3Sc/P18PPfRQuEYEAAAICeOfAv66ESNG6NChQ01+PS8vT1VVVcHl2LFjYZwOAACgdRh7BrAxpaWlSklJafLrTqdTTqczjBMBAAC0vogJwOrq6gZn744cOaLS0lIlJCSoe/fuysvL0yeffKK1a9dKkpYuXaqePXvq2muv1RdffKFVq1bpjTfe0Pbt2+26CwAAAGERMQG4Z88eTZgwIXh57ty5kqTp06eroKBAFRUVKi8vD3797Nmz+o//+A998skn6tSpk4YMGaLXX3+9wXUAAABEIodlWZbdQ7RXfr9fbrdbVVVVcrlcdo8DoJVUfV6roQ99+WzA23nfU7I7zuaJALQmHr95EwgAAIBxCEAAaIYlniQBEHkIQAAAAMMQgAAAAIYhAAEAAAxDAAIAABiGAAQAADAMAQgAAGAYAhAAAMAwBCAAAIBhCEAAAADDEIAAAACGIQABAAAMQwACAAAYhgAEAAAwDAEIABdwOOyeAABCiwAEAAAwDAEIAABgGAIQAADAMAQgAACAYQhAAAAAwxCAAAAAhiEAAQAADEMAAgAAGIYABAAAMAwBCAAAYBgCEAAAwDAEIAAAgGEIQAAAAMMQgAAAAIYhAAEAAAxDAAIAABiGAAQAADAMAQgAAGAYAhAAAMAwBCAANMOy7J4AAFofAQgAAGCYiAnAXbt2afLkyUpNTZXD4dDGjRu/cZ/i4mJdd911cjqd6tOnjwoKCkI+JwAAgN0iJgBramo0dOhQLVu27JK2P3LkiCZNmqQJEyaotLRUd911l2bOnKlt27aFeFIAAAB7xdg9QGuZOHGiJk6ceMnbr1ixQj179tTixYslSQMGDNCbb76pJUuWKCsrK1RjAgAA2C5izgC2VElJiTIzMxusy8rKUklJSZP7BAIB+f3+BgsAAEB7Y2wA+nw+JSUlNViXlJQkv9+vzz//vNF98vPz5Xa7g4vH4wnHqAAAAK3K2AC8HHl5eaqqqgoux44ds3skAACAFouY1wC2VHJysiorKxusq6yslMvlUseOHRvdx+l0yul0hmM8AACAkDH2DKDX61VRUVGDdTt27JDX67VpIgAAgPCImACsrq5WaWmpSktLJX35MS+lpaUqLy+X9OXTtzk5OcHt77zzTh0+fFj33nuv/vrXv+rZZ5/VSy+9pLvvvtuO8QG0IQ67BwCAEIuYANyzZ4/S09OVnp4uSZo7d67S09P14IMPSpIqKiqCMShJPXv21KuvvqodO3Zo6NChWrx4sVatWsVHwAAAgIgXMa8BHD9+vKxm/mhnY3/lY/z48dq3b18IpwIAAGh7IuYMIAAAAC4NAQgAAGAYAhAAAMAwBCAAAIBhCEAAAADDEIAAAACGIQABAAAMQwACAAAYhgAEAAAwDAEIAABgGAIQAADAMAQgAACAYQhAAAAAwxCAAAAAhiEAAQAADEMAAgAAGIYABAAAMAwBCAAAYBgCEAAAwDAEIAAAgGEIQAAAAMMQgADQDMvuAQAgBAhAAAAAwxCAAAAAhiEAAQAADEMAAgAAGIYABAAAMAwBCAAAYBgCEAAu4HA47B4BAEKKAAQAADAMAQgAAGAYAhAAAMAwBCAAAIBhCEAAAADDEIAAAACGIQABAAAME1EBuGzZMl199dWKi4vTyJEj9e677za5bUFBgRwOR4MlLi4ujNMCAADYI2IC8MUXX9TcuXM1f/58vffeexo6dKiysrJ04sSJJvdxuVyqqKgILkePHg3jxAAAAPaImAB86qmnNGvWLN1xxx0aOHCgVqxYoU6dOmn16tVN7uNwOJScnBxckpKSwjgxAACAPSIiAM+ePau9e/cqMzMzuC4qKkqZmZkqKSlpcr/q6mr16NFDHo9HU6ZM0YEDB8IxLgAAgK0iIgBPnTqlurq6i87gJSUlyefzNbpPv379tHr1am3atEnPP/+86uvrNXr0aB0/frzJ2wkEAvL7/Q0WAACA9iYiAvByeL1e5eTkaNiwYRo3bpxeeeUVXXXVVfrNb37T5D75+flyu93BxePxhHFiAACA1hERAdi1a1dFR0ersrKywfrKykolJydf0nV06NBB6enpOnToUJPb5OXlqaqqKrgcO3bsW80NAABgh4gIwNjYWGVkZKioqCi4rr6+XkVFRfJ6vZd0HXV1dSorK1NKSkqT2zidTrlcrgYLAABAexNj9wCtZe7cuZo+fbqGDx+uESNGaOnSpaqpqdEdd9whScrJyVFaWpry8/MlSQ8//LBGjRqlPn366PTp01q0aJGOHj2qmTNn2nk3AAAAQi5iAnDq1Kk6efKkHnzwQfl8Pg0bNkxbt24NvjGkvLxcUVFfnfD87LPPNGvWLPl8PnXp0kUZGRnavXu3Bg4caNddAAAACAuHZVmW3UO0V36/X263W1VVVTwdDESQ6sA5DZq/TZL01n03Ku2KjjZPBKA18fgdIa8BBAAAwKUjAAEAAAxDAAIAABiGAAQAADAMAQgAAGAYAhAAAMAwBCAAAIBhCEAAaAYflQogEhGAAAAAhiEAAQAADEMAAgAAGIYABIALOOweAABCjAAEAAAwDAEIAABgGAIQAADAMAQgAACAYQhAAAAAwxCAAAAAhiEAAQAADEMAAgAAGIYABAAAMAwBCAAAYBgCEAAAwDAEIAAAgGEIQAAAAMMQgAAAAIYhAAEAAAxDAAIAABiGAAQAADAMAQgAAGAYAhAAAMAwBCAAAIBhCEAAAADDEIAAAACGIQABAAAMQwACAAAYhgAEAAAwTEQF4LJly3T11VcrLi5OI0eO1Lvvvtvs9uvXr1f//v0VFxenwYMHa8uWLWGaFAAAwD4RE4Avvvii5s6dq/nz5+u9997T0KFDlZWVpRMnTjS6/e7duzVt2jTNmDFD+/btU3Z2trKzs7V///4wTw4AABBeEROATz31lGbNmqU77rhDAwcO1IoVK9SpUyetXr260e2ffvpp3XzzzfrFL36hAQMGaMGCBbruuuv061//OsyTA0B4/d9jp3XkVI0k6X8+OqmZz/1ZFVWfS5JKj53WCf8Xdo4HIAxi7B6gNZw9e1Z79+5VXl5ecF1UVJQyMzNVUlLS6D4lJSWaO3dug3VZWVnauHFjKEe9JGveOqKH/vi+3WMAkHTD43+ye4SweP2DN+weAWjUPd/vq9k3XmP3GBEnIs4Anjp1SnV1dUpKSmqwPikpST6fr9F9fD5fi7aXpEAgIL/f32AJBeIPAIAvPbn9Q7tHiEgREYDhkp+fL7fbHVw8Hk9Ibue/f+b9Vvtfm+pqpUlazw/T07Qxd8xF62Ojv/oWvP7qLl+ui4lS76u+0+z1dewQrSjHV/8dH/flyexkV5xuyeimVHecJKlrZ6eu6NRBcR2iFB8Xo9iYht/y8XExcjgkV1xMg+u+0BWdOjQ7z4AUl+LjYpTwndhmt7tQ186x8va6ssG6/snxkqToKEeD49MUh+PSbsvhuPRtz+sQ/c07xDu/Onbn/03iOkQ1uf93+16lrXeN1YieCRd97fx+F+rs/OYnKxwO6eorO8nd8at/q6gW3t+4DlHqm9RZf5g9Rt0TOrVs5yaMvaarJCnmgmES453q2tkp6cufgwu//nX9kuIVGxN1Sf8eaVd0vOTZoltwgL4Te/HPxYXrY6Iczd5+yv/+XF6uC39+z/MkXHybF/7sfP2udu0ce9HP+fnfAR2iHY3+HHeKjVZivLPZ+VLdcQ1+l1yoqe/v1pQ5IEn/53uRdbbsf+6dYPcIESkingLu2rWroqOjVVlZ2WB9ZWWlkpOTG90nOTm5RdtLUl5eXoOnjf1+f0giMKNHgv62cFKrX29bEKn3Cy330k+/3f/ohNouHnTQjs29qa/dI6CNi4gzgLGxscrIyFBRUVFwXX19vYqKiuT1Nv4g4/V6G2wvSTt27Ghye0lyOp1yuVwNFgAAgPYmIs4AStLcuXM1ffp0DR8+XCNGjNDSpUtVU1OjO+64Q5KUk5OjtLQ05efnS5LmzJmjcePGafHixZo0aZIKCwu1Z88erVy50s67AQAAEHIRE4BTp07VyZMn9eCDD8rn82nYsGHaunVr8I0e5eXlior66oTn6NGjtW7dOj3wwAO6//77dc0112jjxo0aNGiQXXcBAAAgLByWZVl2D9Fe+f1+ud1uVVVV8XQwAADtBI/fEfIaQAAAAFw6AhAAAMAwBCAAAIBhCEAAAADDEIAAAACGIQABAAAMQwACAAAYhgAEAAAwDAEIAABgmIj5U3B2OP9HVPx+v82TAACAS3X+cdvkP4ZGAH4LZ86ckSR5PB6bJwEAAC115swZud1uu8ewBX8L+Fuor6/Xp59+qvj4eDkcjla9br/fL4/Ho2PHjhn7dwpDgeMaGhzX0OC4hgbHNTTa03G1LEtnzpxRamqqoqLMfDUcZwC/haioKHXr1i2kt+Fyudr8D1J7xHENDY5raHBcQ4PjGhrt5biaeubvPDOzFwAAwGAEIAAAgGEIwDbK6XRq/vz5cjqddo8SUTiuocFxDQ2Oa2hwXEOD49q+8CYQAAAAw3AGEAAAwDAEIAAAgGEIQAAAAMMQgAAAAIYhAG2ybNkyXX311YqLi9PIkSP17rvvNrv9+vXr1b9/f8XFxWnw4MHasmVLmCZtX1pyXH/7299q7Nix6tKli7p06aLMzMxv/HcwVUu/X88rLCyUw+FQdnZ2aAdsp1p6XE+fPq3c3FylpKTI6XSqb9++/C5oREuP69KlS9WvXz917NhRHo9Hd999t7744oswTds+7Nq1S5MnT1ZqaqocDoc2btz4jfsUFxfruuuuk9PpVJ8+fVRQUBDyOdECFsKusLDQio2NtVavXm0dOHDAmjVrlnXFFVdYlZWVjW7/1ltvWdHR0dYTTzxhvf/++9YDDzxgdejQwSorKwvz5G1bS4/rrbfeai1btszat2+f9cEHH1g//vGPLbfbbR0/fjzMk7dtLT2u5x05csRKS0uzxo4da02ZMiU8w7YjLT2ugUDAGj58uPWDH/zAevPNN60jR45YxcXFVmlpaZgnb9taelx///vfW06n0/r9739vHTlyxNq2bZuVkpJi3X333WGevG3bsmWLNW/ePOuVV16xJFkbNmxodvvDhw9bnTp1subOnWu9//771jPPPGNFR0dbW7duDc/A+EYEoA1GjBhh5ebmBi/X1dVZqampVn5+fqPb/+hHP7ImTZrUYN3IkSOtn/70pyGds71p6XG90Llz56z4+HjrueeeC9WI7dLlHNdz585Zo0ePtlatWmVNnz6dAGxES4/r8uXLrV69ellnz54N14jtUkuPa25urnXjjTc2WDd37lxrzJgxIZ2zPbuUALz33nuta6+9tsG6qVOnWllZWSGcDC3BU8BhdvbsWe3du1eZmZnBdVFRUcrMzFRJSUmj+5SUlDTYXpKysrKa3N5El3NcL/SPf/xDtbW1SkhICNWY7c7lHteHH35YiYmJmjFjRjjGbHcu57j+4Q9/kNfrVW5urpKSkjRo0CA99thjqqurC9fYbd7lHNfRo0dr7969waeJDx8+rC1btugHP/hBWGaOVDxutX0xdg9gmlOnTqmurk5JSUkN1iclJemvf/1ro/v4fL5Gt/f5fCGbs725nON6oV/+8pdKTU296JeWyS7nuL755pv63e9+p9LS0jBM2D5dznE9fPiw3njjDd12223asmWLDh06pJ///Oeqra3V/PnzwzF2m3c5x/XWW2/VqVOndMMNN8iyLJ07d0533nmn7r///nCMHLGaetzy+/36/PPP1bFjR5smw3mcAQQkLVy4UIWFhdqwYYPi4uLsHqfdOnPmjG6//Xb99re/VdeuXe0eJ6LU19crMTFRK1euVEZGhqZOnap58+ZpxYoVdo/WrhUXF+uxxx7Ts88+q/fee0+vvPKKXn31VS1YsMDu0YCQ4gxgmHXt2lXR0dGqrKxssL6yslLJycmN7pOcnNyi7U10Ocf1vCeffFILFy7U66+/riFDhoRyzHanpcf1448/1t/+9jdNnjw5uK6+vl6SFBMTo4MHD6p3796hHboduJzv15SUFHXo0EHR0dHBdQMGDJDP59PZs2cVGxsb0pnbg8s5rv/5n/+p22+/XTNnzpQkDR48WDU1NfrJT36iefPmKSqK8ySXo6nHLZfLxdm/NoLv7DCLjY1VRkaGioqKguvq6+tVVFQkr9fb6D5er7fB9pK0Y8eOJrc30eUcV0l64okntGDBAm3dulXDhw8Px6jtSkuPa//+/VVWVqbS0tLg8s///M+aMGGCSktL5fF4wjl+m3U5369jxozRoUOHgkEtSR9++KFSUlKIv/91Ocf1H//4x0WRdz6yLcsK3bARjsetdsDud6GYqLCw0HI6nVZBQYH1/vvvWz/5yU+sK664wvL5fJZlWdbtt99u3XfffcHt33rrLSsmJsZ68sknrQ8++MCaP38+HwPTiJYe14ULF1qxsbHWyy+/bFVUVASXM2fO2HUX2qSWHtcL8S7gxrX0uJaXl1vx8fHW7NmzrYMHD1qbN2+2EhMTrUceecSuu9AmtfS4zp8/34qPj7deeOEF6/Dhw9b27dut3r17Wz/60Y/sugtt0pkzZ6x9+/ZZ+/btsyRZTz31lLVv3z7r6NGjlmVZ1n333Wfdfvvtwe3PfwzML37xC+uDDz6wli1bxsfAtDEEoE2eeeYZq3v37lZsbKw1YsQI6+233w5+bdy4cdb06dMbbP/SSy9Zffv2tWJjY61rr73WevXVV8M8cfvQkuPao0cPS9JFy/z588M/eBvX0u/XryMAm9bS47p7925r5MiRltPptHr16mU9+uij1rlz58I8ddvXkuNaW1tr/epXv7J69+5txcXFWR6Px/r5z39uffbZZ+EfvA3705/+1Ojvy/PHcvr06da4ceMu2mfYsGFWbGys1atXL2vNmjVhnxtNc1gW57gBAABMwmsAAQAADEMAAgAAGIYABAAAMAwBCAAAYBgCEAAAwDAEIAAAgGEIQAAAAMMQgAAAoE3ZtWuXJk+erNTUVDkcDm3cuLHF12FZlp588kn17dtXTqdTaWlpevTRR1t/2HYqxu4BAAAAvq6mpkZDhw7Vv/3bv+mHP/zhZV3HnDlztH37dj355JMaPHiw/v73v+vvf/97K0/afvGXQAAAQJvlcDi0YcMGZWdnB9cFAgHNmzdPL7zwgk6fPq1Bgwbp8ccf1/jx4yVJH3zwgYYMGaL9+/erX79+9gzexvEUMAAAaFdmz56tkpISFRYW6i9/+YtuueUW3Xzzzfroo48kSX/84x/Vq1cvbd68WT179tTVV1+tmTNncgbwawhAAADQbpSXl2vNmjVav369xo4dq969e+uee+7RDTfcoDVr1kiSDh8+rKNHj2r9+vVau3atCgoKtHfvXv3Lv/yLzdO3HbwGEAAAtBtlZWWqq6tT3759G6wPBAK68sorJUn19fUKBAJau3ZtcLvf/e53ysjI0MGDB3laWAQgAABoR6qrqxUdHa29e/cqOjq6wdc6d+4sSUpJSVFMTEyDSBwwYICkL88gEoAEIAAAaEfS09NVV1enEydOaOzYsY1uM2bMGJ07d04ff/yxevfuLUn68MMPJUk9evQI26xtGe8CBgAAbUp1dbUOHTok6cvge+qppzRhwgQlJCSoe/fu+td//Ve99dZbWrx4sdLT03Xy5EkVFRVpyJAhmjRpkurr63X99derc+fOWrp0qerr65WbmyuXy6Xt27fbfO/aBgIQAAC0KcXFxZowYcJF66dPn66CggLV1tbqkUce0dq1a/XJJ5+oa9euGjVqlB566CENHjxYkvTpp5/q3//937V9+3Z95zvf0cSJE7V48WIlJCSE++60SQQgAACAYfgYGAAAAMMQgAAAAIYhAAEAAAxDAAIAABiGAAQAADAMAQgAAGAYAhAAAMAwBCAAAIBhCEAAAADDEIAAAACGIQABAAAMQwACAAAYhgAEAAAwzP8HtvNrnpwy+SYAAAAASUVORK5CYII=' width=640.0/>\n",
       "            </div>\n",
       "        "
      ],
      "text/plain": [
       "Canvas(toolbar=Toolbar(toolitems=[('Home', 'Reset original view', 'home', 'home'), ('Back', 'Back to previous …"
      ]
     },
     "metadata": {},
     "output_type": "display_data"
    },
    {
     "data": {
      "application/vnd.jupyter.widget-view+json": {
       "model_id": "cdc77a91ab4a434fb05088596a82ff89",
       "version_major": 2,
       "version_minor": 0
      },
      "image/png": "[encoded data removed]",
      "text/html": [
       "\n",
       "            <div style=\"display: inline-block;\">\n",
       "                <div class=\"jupyter-widgets widget-label\" style=\"text-align: center;\">\n",
       "                    Figure\n",
       "                </div>\n",
       "                <img src='data:image/png;base64,iVBORw0KGgoAAAANSUhEUgAAAoAAAAHgCAYAAAA10dzkAAAAOXRFWHRTb2Z0d2FyZQBNYXRwbG90bGliIHZlcnNpb24zLjguMSwgaHR0cHM6Ly9tYXRwbG90bGliLm9yZy/SrBM8AAAACXBIWXMAAA9hAAAPYQGoP6dpAAAkVUlEQVR4nO3de3BW9Z348U8CJFglodwSokGEVUFFaUEwXsYqmcXq2DLiSqlFtFS2W2RdsVYRlbVqsVYtWlHGbivLKMXFVaYiQ6VYa6upl4BbL0C1WFHZBFlKgljDJef3R39mNzUgUHN5+n29Zp7pcPI9yed8jTxvT54nzcuyLAsAAJKR394DAADQtgQgAEBiBCAAQGIEIABAYgQgAEBiBCAAQGIEIABAYgQgAEBiBCAAQGIEIABAYgQgAEBiBCAAQGIEIABAYgQgAEBiBCAAQGIEIABAYgQgAEBiBCAAQGIEIABAYgQgAEBiBCAAQGIEIABAYgQgAEBiBCAAQGIEIABAYgQgAEBiBCAAQGIEIABAYgQgAEBiBCAAQGIEIABAYgQgAEBiBCAAQGIEIABAYgQgAEBiBCAAQGIEIABAYgQgAEBiBCAAQGIEIABAYgQgAEBiBCAAQGIEIABAYgQgAEBiBCAAQGIEIABAYgQgAEBiBCAAQGIEIABAYgQgAEBiBCAAQGIEIABAYgQgAEBiBCAAQGIEIABAYgQgAEBiOrf3ALmssbExNmzYEN26dYu8vLz2HgcA2AtZlsXWrVujrKws8vPTvBcmAP8KGzZsiPLy8vYeAwDYD2+99VYccsgh7T1GuxCAf4Vu3bpFxJ+/gYqKitp5GgBgb9TX10d5eXnT83iKBOBf4cMf+xYVFQlAAMgxKb98K80ffAMAJEwAAgAkRgACACRGAAIAJEYAAgAkRgACACRGAAIAJEYAAgAkRgACACRGAAIAJEYAAgAkRgACACRGAAIAJEYAAgAkRgACACRGAAIAJEYAAgAkRgACACRGAAIAJEYAAgAkRgACACRGAAIAJEYAAgAkRgACACRGAAIAJEYAAgAkRgACACRGAAIAJEYAAgAkRgACACRGAAIAJEYAAgAkRgACACRGAAIAJEYAAgAkRgACACRGAAIAJEYAAgAkRgACACRGAAIAJEYAAgAkRgACACRGAAIAJCanAnDOnDnRv3//6Nq1a4wcOTKee+65Pa5ftGhRDBo0KLp27RpDhgyJpUuX7nbt17/+9cjLy4vZs2d/wlMDAHQsOROADz74YEybNi1mzpwZK1eujOOOOy5Gjx4dGzdubHH9M888E+PHj49JkybFqlWrYsyYMTFmzJh4+eWXP7L2kUceid/85jdRVlbW2pcBANDuciYAb7/99rj44ovjoosuiqOOOirmzp0bn/rUp+LHP/5xi+vvuOOOOOOMM+KKK66IwYMHxw033BCf/exn46677mq27p133ompU6fGAw88EF26dGmLSwEAaFc5EYDbt2+P6urqqKysbDqWn58flZWVUVVV1eI5VVVVzdZHRIwePbrZ+sbGxpgwYUJcccUVcfTRR3/sHA0NDVFfX9/sAQCQa3IiADdt2hS7du2KkpKSZsdLSkqipqamxXNqamo+dv13v/vd6Ny5c/zzP//zXs0xa9asKC4ubnqUl5fv45UAALS/nAjA1lBdXR133HFHzJs3L/Ly8vbqnOnTp0ddXV3T46233mrlKQEAPnk5EYC9evWKTp06RW1tbbPjtbW1UVpa2uI5paWle1z/q1/9KjZu3Bj9+vWLzp07R+fOnePNN9+Myy+/PPr379/i5ywsLIyioqJmDwCAXJMTAVhQUBDDhg2LFStWNB1rbGyMFStWREVFRYvnVFRUNFsfEbF8+fKm9RMmTIjf/va38eKLLzY9ysrK4oorroif/exnrXcxAADtrHN7D7C3pk2bFhMnTozhw4fHiBEjYvbs2bFt27a46KKLIiLiggsuiIMPPjhmzZoVERGXXnppnHrqqXHbbbfFWWedFQsXLowXXngh7r333oiI6NmzZ/Ts2bPZ1+jSpUuUlpbGkUce2bYXBwDQhnImAMeNGxfvvvtuXHfddVFTUxNDhw6NZcuWNb3RY/369ZGf/783NE888cRYsGBBXHPNNXH11VfH4YcfHosXL45jjjmmvS4BAKBDyMuyLGvvIXJVfX19FBcXR11dndcDAkCO8PydI68BBADgkyMAAQASIwABABIjAAEAEiMAAQASIwABABIjAAEAEiMAAQASIwABABIjAAEAEiMAAQASIwABABIjAAEAEiMAAQASIwABABIjAAEAEiMAAQASIwABABIjAAEAEiMAAQASIwABABIjAAEAEiMAAQASIwABABIjAAEAEiMAAQASIwABABIjAAEAEiMAAQASIwABABIjAAEAEiMAAQASIwABABIjAAEAEiMAAQASIwABABIjAAEAEiMAAQASIwABABIjAAEAEiMAAQASIwABABIjAAEAEiMAAQASIwABABIjAAEAEiMAAQASIwABABIjAAEAEiMAAQASIwABABIjAAEAEiMAAQASIwABABIjAAEAEiMAAQASk1MBOGfOnOjfv3907do1Ro4cGc8999we1y9atCgGDRoUXbt2jSFDhsTSpUubPrZjx4648sorY8iQIXHggQdGWVlZXHDBBbFhw4bWvgwAgHaVMwH44IMPxrRp02LmzJmxcuXKOO6442L06NGxcePGFtc/88wzMX78+Jg0aVKsWrUqxowZE2PGjImXX345IiLef//9WLlyZVx77bWxcuXKePjhh2Pt2rXxhS98oS0vCwCgzeVlWZa19xB7Y+TIkXH88cfHXXfdFRERjY2NUV5eHlOnTo2rrrrqI+vHjRsX27ZtiyVLljQdO+GEE2Lo0KExd+7cFr/G888/HyNGjIg333wz+vXr97Ez1dfXR3FxcdTV1UVRUdF+XhkA0JY8f+fIHcDt27dHdXV1VFZWNh3Lz8+PysrKqKqqavGcqqqqZusjIkaPHr3b9RERdXV1kZeXF927d2/x4w0NDVFfX9/sAQCQa3IiADdt2hS7du2KkpKSZsdLSkqipqamxXNqamr2af0HH3wQV155ZYwfP363/zUwa9asKC4ubnqUl5fvx9UAALSvnAjA1rZjx44477zzIsuyuOeee3a7bvr06VFXV9f0eOutt9pwSgCAT0bn9h5gb/Tq1Ss6deoUtbW1zY7X1tZGaWlpi+eUlpbu1foP4+/NN9+MJ554Yo+vBSgsLIzCwsL9vAoAgI4hJ+4AFhQUxLBhw2LFihVNxxobG2PFihVRUVHR4jkVFRXN1kdELF++vNn6D+Pvtddei5///OfRs2fP1rkAAIAOJCfuAEZETJs2LSZOnBjDhw+PESNGxOzZs2Pbtm1x0UUXRUTEBRdcEAcffHDMmjUrIiIuvfTSOPXUU+O2226Ls846KxYuXBgvvPBC3HvvvRHx5/g799xzY+XKlbFkyZLYtWtX0+sDe/ToEQUFBe1zoQAArSxnAnDcuHHx7rvvxnXXXRc1NTUxdOjQWLZsWdMbPdavXx/5+f97Q/PEE0+MBQsWxDXXXBNXX311HH744bF48eI45phjIiLinXfeiZ/+9KcRETF06NBmX+sXv/hFfO5zn2uT6wIAaGs583sAOyK/RwgAco/n7xx5DSAAAJ8cAQgAkBgBCACQGAEIAJAYAQgAkBgBCACQGAEIAJAYAQgAkBgBCACQGAEIAJAYAQgAkBgBCACQGAEIAJAYAQgAkBgBCACQGAEIAJAYAQgAkBgBCACQGAEIAJAYAQgAkBgBCACQGAEIAJAYAQgAkBgBCACQGAEIAJAYAQgAkBgBCACQGAEIAJAYAQgAkBgBCACQGAEIAJAYAQgAkBgBCACQGAEIAJAYAQgAkBgBCACQGAEIAJAYAQgAkBgBCACQGAEIAJAYAQgAkBgBCACQGAEIAJAYAQgAkBgBCACQGAEIAJAYAQgAkBgBCACQGAEIAJAYAQgAkBgBCACQGAEIAJAYAQgAkBgBCACQGAEIAJAYAQgAkJicCsA5c+ZE//79o2vXrjFy5Mh47rnn9rh+0aJFMWjQoOjatWsMGTIkli5d2uzjWZbFddddF3379o0DDjggKisr47XXXmvNSwAAaHc5E4APPvhgTJs2LWbOnBkrV66M4447LkaPHh0bN25scf0zzzwT48ePj0mTJsWqVatizJgxMWbMmHj55Zeb1txyyy1x5513xty5c+PZZ5+NAw88MEaPHh0ffPBBW10WAECby8uyLGvvIfbGyJEj4/jjj4+77rorIiIaGxujvLw8pk6dGlddddVH1o8bNy62bdsWS5YsaTp2wgknxNChQ2Pu3LmRZVmUlZXF5ZdfHt/85jcjIqKuri5KSkpi3rx58aUvfeljZ6qvr4/i4uKoq6uLoqKiT+hKAYDW5Pk7onN7D7A3tm/fHtXV1TF9+vSmY/n5+VFZWRlVVVUtnlNVVRXTpk1rdmz06NGxePHiiIh44403oqamJiorK5s+XlxcHCNHjoyqqqoWA7ChoSEaGhqa/lxfX//XXNZuLXv5v2PZyzWt8rkBIJeccUxpnHFM3/Ye429OTgTgpk2bYteuXVFSUtLseElJSaxZs6bFc2pqalpcX1NT0/TxD4/tbs1fmjVrVlx//fX7dQ37Yk3N1lj84oZW/zoA0NH173WgAGwFORGAHcX06dOb3VWsr6+P8vLyT/zrnHJ47zio0D8aAPhMv0+39wh/k3KiMnr16hWdOnWK2traZsdra2ujtLS0xXNKS0v3uP7D/62trY2+ffs2WzN06NAWP2dhYWEUFhbu72XstWGHfjqGHeobHgBoHTnxLuCCgoIYNmxYrFixoulYY2NjrFixIioqKlo8p6Kiotn6iIjly5c3rT/ssMOitLS02Zr6+vp49tlnd/s5AQD+FuTEHcCIiGnTpsXEiRNj+PDhMWLEiJg9e3Zs27YtLrroooiIuOCCC+Lggw+OWbNmRUTEpZdeGqeeemrcdtttcdZZZ8XChQvjhRdeiHvvvTciIvLy8uJf/uVf4sYbb4zDDz88DjvssLj22mujrKwsxowZ016XCQDQ6nImAMeNGxfvvvtuXHfddVFTUxNDhw6NZcuWNb2JY/369ZGf/783NE888cRYsGBBXHPNNXH11VfH4YcfHosXL45jjjmmac23vvWt2LZtW0yePDm2bNkSJ598cixbtiy6du3a5tcHANBWcub3AHZEfo8QAOQez9858hpAAAA+OQIQACAxAhAAIDECEAAgMQIQACAxAhAAIDECEAAgMQIQACAxAhAAIDECEAAgMQIQACAxAhAAIDECEAAgMQIQACAxAhAAIDECEAAgMQIQACAxAhAAIDECEAAgMQIQACAxAhAAIDECEAAgMQIQACAxAhAAIDECEAAgMQIQACAxAhAAIDECEAAgMQIQACAxAhAAIDECEAAgMQIQACAxAhAAIDECEAAgMQIQACAxAhAAIDECEAAgMQIQACAxAhAAIDECEAAgMQIQACAxAhAAIDECEAAgMQIQACAxAhAAIDECEAAgMQIQACAxAhAAIDECEAAgMQIQACAxAhAAIDECEAAgMQIQACAxAhAAIDECEAAgMQIQACAxHT4AN2/eHOeff34UFRVF9+7dY9KkSfHee+/t8ZwPPvggpkyZEj179oyDDjooxo4dG7W1tU0f/6//+q8YP358lJeXxwEHHBCDBw+OO+64o7UvBQCgQ+jwAXj++efHK6+8EsuXL48lS5bEU089FZMnT97jOZdddlk8+uijsWjRovjlL38ZGzZsiHPOOafp49XV1dGnT5+4//7745VXXokZM2bE9OnT46677mrtywEAaHd5WZZl7T3E7qxevTqOOuqoeP7552P48OEREbFs2bI488wz4+23346ysrKPnFNXVxe9e/eOBQsWxLnnnhsREWvWrInBgwdHVVVVnHDCCS1+rSlTpsTq1avjiSee2Ov56uvro7i4OOrq6qKoqGg/rhAAaGuevzv4HcCqqqro3r17U/xFRFRWVkZ+fn48++yzLZ5TXV0dO3bsiMrKyqZjgwYNin79+kVVVdVuv1ZdXV306NHjkxseAKCD6tzeA+xJTU1N9OnTp9mxzp07R48ePaKmpma35xQUFET37t2bHS8pKdntOc8880w8+OCD8dhjj+1xnoaGhmhoaGj6c319/V5cBQBAx9IudwCvuuqqyMvL2+NjzZo1bTLLyy+/HF/84hdj5syZ8fd///d7XDtr1qwoLi5uepSXl7fJjAAAn6R2uQN4+eWXx4UXXrjHNQMGDIjS0tLYuHFjs+M7d+6MzZs3R2lpaYvnlZaWxvbt22PLli3N7gLW1tZ+5JxXX301Ro0aFZMnT45rrrnmY+eePn16TJs2renP9fX1IhAAyDntEoC9e/eO3r17f+y6ioqK2LJlS1RXV8ewYcMiIuKJJ56IxsbGGDlyZIvnDBs2LLp06RIrVqyIsWPHRkTE2rVrY/369VFRUdG07pVXXonTTz89Jk6cGDfddNNezV1YWBiFhYV7tRYAoKPq0O8Cjoj4/Oc/H7W1tTF37tzYsWNHXHTRRTF8+PBYsGBBRES88847MWrUqJg/f36MGDEiIiL+6Z/+KZYuXRrz5s2LoqKimDp1akT8+bV+EX/+se/pp58eo0ePju9973tNX6tTp057FaYf8i4iAMg9nr87+JtAIiIeeOCBuOSSS2LUqFGRn58fY8eOjTvvvLPp4zt27Ii1a9fG+++/33Ts+9//ftPahoaGGD16dNx9991NH3/ooYfi3Xffjfvvvz/uv//+puOHHnpo/OEPf2iT6wIAaC8d/g5gR+a/IAAg93j+7uC/BxAAgE+eAAQASIwABABIjAAEAEiMAAQASIwABABIjAAEAEiMAAQASIwABABIjAAEAEiMAAQASIwABABIjAAEAEiMAAQASIwABABIjAAEAEiMAAQASIwABABIjAAEAEiMAAQASIwABABIjAAEAEiMAAQASIwABABIjAAEAEiMAAQASIwABABIjAAEAEiMAAQASIwABABIjAAEAEiMAAQASIwABABIjAAEAEiMAAQASIwABABIjAAEAEiMAAQASIwABABIjAAEAEiMAAQASIwABABIjAAEAEiMAAQASIwABABIjAAEAEiMAAQASIwABABIjAAEAEiMAAQASIwABABIjAAEAEiMAAQASIwABABIjAAEAEiMAAQASEyHD8DNmzfH+eefH0VFRdG9e/eYNGlSvPfee3s854MPPogpU6ZEz54946CDDoqxY8dGbW1ti2v/53/+Jw455JDIy8uLLVu2tMIVAAB0LB0+AM8///x45ZVXYvny5bFkyZJ46qmnYvLkyXs857LLLotHH300Fi1aFL/85S9jw4YNcc4557S4dtKkSXHssce2xugAAB1SXpZlWXsPsTurV6+Oo446Kp5//vkYPnx4REQsW7YszjzzzHj77bejrKzsI+fU1dVF7969Y8GCBXHuuedGRMSaNWti8ODBUVVVFSeccELT2nvuuScefPDBuO6662LUqFHxxz/+Mbp3777X89XX10dxcXHU1dVFUVHRX3exAECb8Pzdwe8AVlVVRffu3ZviLyKisrIy8vPz49lnn23xnOrq6tixY0dUVlY2HRs0aFD069cvqqqqmo69+uqr8e1vfzvmz58f+fkdehsAAD5Rndt7gD2pqamJPn36NDvWuXPn6NGjR9TU1Oz2nIKCgo/cySspKWk6p6GhIcaPHx/f+973ol+/frFu3bq9mqehoSEaGhqa/lxfX78PVwMA0DG0y62vq666KvLy8vb4WLNmTat9/enTp8fgwYPjK1/5yj6dN2vWrCguLm56lJeXt9KEAACtp13uAF5++eVx4YUX7nHNgAEDorS0NDZu3Njs+M6dO2Pz5s1RWlra4nmlpaWxffv22LJlS7O7gLW1tU3nPPHEE/HSSy/FQw89FBERH74MslevXjFjxoy4/vrrW/zc06dPj2nTpjX9ub6+XgQCADmnXQKwd+/e0bt3749dV1FREVu2bInq6uoYNmxYRPw53hobG2PkyJEtnjNs2LDo0qVLrFixIsaOHRsREWvXro3169dHRUVFRET853/+Z/zpT39qOuf555+Pr371q/GrX/0qBg4cuNt5CgsLo7CwcK+vEwCgI+rQrwEcPHhwnHHGGXHxxRfH3LlzY8eOHXHJJZfEl770paZ3AL/zzjsxatSomD9/fowYMSKKi4tj0qRJMW3atOjRo0cUFRXF1KlTo6KioukdwH8ZeZs2bWr6evvyLmAAgFzUoQMwIuKBBx6ISy65JEaNGhX5+fkxduzYuPPOO5s+vmPHjli7dm28//77Tce+//3vN61taGiI0aNHx913390e4wMAdDgd+vcAdnR+jxAA5B7P3x389wACAPDJE4AAAIkRgAAAiRGAAACJEYAAAIkRgAAAiRGAAACJEYAAAIkRgAAAiRGAAACJEYAAAIkRgAAAiRGAAACJEYAAAIkRgAAAiRGAAACJEYAAAIkRgAAAiRGAAACJEYAAAIkRgAAAiRGAAACJEYAAAIkRgAAAiRGAAACJEYAAAIkRgAAAiRGAAACJEYAAAIkRgAAAiRGAAACJEYAAAIkRgAAAiRGAAACJEYAAAIkRgAAAiRGAAACJEYAAAIkRgAAAiRGAAACJEYAAAIkRgAAAiRGAAACJ6dzeA+SyLMsiIqK+vr6dJwEA9taHz9sfPo+nSAD+FbZu3RoREeXl5e08CQCwr7Zu3RrFxcXtPUa7yMtSzt+/UmNjY2zYsCG6desWeXl5n+jnrq+vj/Ly8njrrbeiqKjoE/3cKbOvrcO+tg772jrsa+vIpX3Nsiy2bt0aZWVlkZ+f5qvh3AH8K+Tn58chhxzSql+jqKiow/+LlIvsa+uwr63DvrYO+9o6cmVfU73z96E0sxcAIGECEAAgMQKwgyosLIyZM2dGYWFhe4/yN8W+tg772jrsa+uwr63DvuYWbwIBAEiMO4AAAIkRgAAAiRGAAACJEYAAAIkRgO1kzpw50b9//+jatWuMHDkynnvuuT2uX7RoUQwaNCi6du0aQ4YMiaVLl7bRpLllX/b1hz/8YZxyyinx6U9/Oj796U9HZWXlx/5zSNW+fr9+aOHChZGXlxdjxoxp3QFz1L7u65YtW2LKlCnRt2/fKCwsjCOOOMLfBS3Y132dPXt2HHnkkXHAAQdEeXl5XHbZZfHBBx+00bS54amnnoqzzz47ysrKIi8vLxYvXvyx5zz55JPx2c9+NgoLC+Pv/u7vYt68ea0+J/sgo80tXLgwKygoyH784x9nr7zySnbxxRdn3bt3z2pra1tc//TTT2edOnXKbrnlluzVV1/NrrnmmqxLly7ZSy+91MaTd2z7uq9f/vKXszlz5mSrVq3KVq9enV144YVZcXFx9vbbb7fx5B3bvu7rh954443s4IMPzk455ZTsi1/8YtsMm0P2dV8bGhqy4cOHZ2eeeWb261//OnvjjTeyJ598MnvxxRfbePKObV/39YEHHsgKCwuzBx54IHvjjTeyn/3sZ1nfvn2zyy67rI0n79iWLl2azZgxI3v44YeziMgeeeSRPa5ft25d9qlPfSqbNm1a9uqrr2Y/+MEPsk6dOmXLli1rm4H5WAKwHYwYMSKbMmVK05937dqVlZWVZbNmzWpx/XnnnZedddZZzY6NHDky+8d//MdWnTPX7Ou+/qWdO3dm3bp1y/793/+9tUbMSfuzrzt37sxOPPHE7N/+7d+yiRMnCsAW7Ou+3nPPPdmAAQOy7du3t9WIOWlf93XKlCnZ6aef3uzYtGnTspNOOqlV58xlexOA3/rWt7Kjjz662bFx48Zlo0ePbsXJ2Bd+BNzGtm/fHtXV1VFZWdl0LD8/PyorK6OqqqrFc6qqqpqtj4gYPXr0btenaH/29S+9//77sWPHjujRo0drjZlz9ndfv/3tb0efPn1i0qRJbTFmztmfff3pT38aFRUVMWXKlCgpKYljjjkmvvOd78SuXbvaauwOb3/29cQTT4zq6uqmHxOvW7culi5dGmeeeWabzPy3yvNWx9e5vQdIzaZNm2LXrl1RUlLS7HhJSUmsWbOmxXNqampaXF9TU9Nqc+aa/dnXv3TllVdGWVnZR/7SStn+7Ouvf/3r+NGPfhQvvvhiG0yYm/ZnX9etWxdPPPFEnH/++bF06dJ4/fXX4xvf+Ebs2LEjZs6c2RZjd3j7s69f/vKXY9OmTXHyySdHlmWxc+fO+PrXvx5XX311W4z8N2t3z1v19fXxpz/9KQ444IB2mowPuQMIEXHzzTfHwoUL45FHHomuXbu29zg5a+vWrTFhwoT44Q9/GL169Wrvcf6mNDY2Rp8+feLee++NYcOGxbhx42LGjBkxd+7c9h4tpz355JPxne98J+6+++5YuXJlPPzww/HYY4/FDTfc0N6jQatyB7CN9erVKzp16hS1tbXNjtfW1kZpaWmL55SWlu7T+hTtz75+6NZbb42bb745fv7zn8exxx7bmmPmnH3d19///vfxhz/8Ic4+++ymY42NjRER0blz51i7dm0MHDiwdYfOAfvz/dq3b9/o0qVLdOrUqenY4MGDo6amJrZv3x4FBQWtOnMu2J99vfbaa2PChAnxta99LSIihgwZEtu2bYvJkyfHjBkzIj/ffZL9sbvnraKiInf/Ogjf2W2soKAghg0bFitWrGg61tjYGCtWrIiKiooWz6moqGi2PiJi+fLlu12fov3Z14iIW265JW644YZYtmxZDB8+vC1GzSn7uq+DBg2Kl156KV588cWmxxe+8IU47bTT4sUXX4zy8vK2HL/D2p/v15NOOilef/31pqCOiPjd734Xffv2FX//3/7s6/vvv/+RyPswsrMsa71h/8Z53soB7f0ulBQtXLgwKywszObNm5e9+uqr2eTJk7Pu3btnNTU1WZZl2YQJE7Krrrqqaf3TTz+dde7cObv11luz1atXZzNnzvRrYFqwr/t68803ZwUFBdlDDz2U/fd//3fTY+vWre11CR3Svu7rX/Iu4Jbt676uX78+69atW3bJJZdka9euzZYsWZL16dMnu/HGG9vrEjqkfd3XmTNnZt26dct+8pOfZOvWrcsef/zxbODAgdl5553XXpfQIW3dujVbtWpVtmrVqiwisttvvz1btWpV9uabb2ZZlmVXXXVVNmHChKb1H/4amCuuuCJbvXp1NmfOHL8GpoMRgO3kBz/4QdavX7+soKAgGzFiRPab3/ym6WOnnnpqNnHixGbr/+M//iM74ogjsoKCguzoo4/OHnvssTaeODfsy74eeuihWUR85DFz5sy2H7yD29fv1/9LAO7evu7rM888k40cOTIrLCzMBgwYkN10003Zzp0723jqjm9f9nXHjh3Zv/7rv2YDBw7MunbtmpWXl2ff+MY3sj/+8Y9tP3gH9otf/KLFvy8/3MuJEydmp5566kfOGTp0aFZQUJANGDAgu++++9p8bnYvL8vc4wYASInXAAIAJEYAAgAkRgACACRGAAIAJEYAAgAkRgACACRGAAIAJEYAAgAdylNPPRVnn312lJWVRV5eXixevHifP0eWZXHrrbfGEUccEYWFhXHwwQfHTTfd9MkPm6M6t/cAAAD/17Zt2+K4446Lr371q3HOOefs1+e49NJL4/HHH49bb701hgwZEps3b47Nmzd/wpPmLv9PIABAh5WXlxePPPJIjBkzpulYQ0NDzJgxI37yk5/Eli1b4phjjonvfve78bnPfS4iIlavXh3HHntsvPzyy3HkkUe2z+AdnB8BAwA55ZJLLomqqqpYuHBh/Pa3v41/+Id/iDPOOCNee+21iIh49NFHY8CAAbFkyZI47LDDon///vG1r33NHcD/QwACADlj/fr1cd9998WiRYvilFNOiYEDB8Y3v/nNOPnkk+O+++6LiIh169bFm2++GYsWLYr58+fHvHnzorq6Os4999x2nr7j8BpAACBnvPTSS7Fr16444ogjmh1vaGiInj17RkREY2NjNDQ0xPz585vW/ehHP4phw4bF2rVr/Vg4BCAAkEPee++96NSpU1RXV0enTp2afeyggw6KiIi+fftG586dm0Xi4MGDI+LPdxAFoAAEAHLIZz7zmdi1a1ds3LgxTjnllBbXnHTSSbFz5874/e9/HwMHDoyIiN/97ncREXHooYe22awdmXcBAwAdynvvvRevv/56RPw5+G6//fY47bTTokePHtGvX7/4yle+Ek8//XTcdttt8ZnPfCbefffdWLFiRRx77LFx1llnRWNjYxx//PFx0EEHxezZs6OxsTGmTJkSRUVF8fjjj7fz1XUMAhAA6FCefPLJOO200z5yfOLEiTFv3rzYsWNH3HjjjTF//vx45513olevXnHCCSfE9ddfH0OGDImIiA0bNsTUqVPj8ccfjwMPPDA+//nPx2233RY9evRo68vpkAQgAEBi/BoYAIDECEAAgMQIQACAxAhAAIDECEAAgMQIQACAxAhAAIDECEAAgMQIQACAxAhAAIDECEAAgMQIQACAxAhAAIDE/D8kHtE8f1Wf3QAAAABJRU5ErkJggg==' width=640.0/>\n",
       "            </div>\n",
       "        "
      ],
      "text/plain": [
       "Canvas(toolbar=Toolbar(toolitems=[('Home', 'Reset original view', 'home', 'home'), ('Back', 'Back to previous …"
      ]
     },
     "metadata": {},
     "output_type": "display_data"
    }
   ],
   "source": [
    "data_arr = np.from_dlpack(filterbank_file.data)\n",
    "mask_arr = np.from_dlpack(filterbank_file.mask)\n",
    "\n",
    "plt.figure()\n",
    "plt.plot(np.mean(data_arr, 0))\n",
    "\n",
    "plt.figure()\n",
    "plt.plot(np.sum(mask_arr, 0))\n",
    "\n"
   ]
  },
  {
   "cell_type": "code",
   "execution_count": 6,
   "metadata": {},
   "outputs": [],
   "source": [
    "\n",
    "\n",
    "# sec_per_spectra = abs(1 / (1e6*filterbank_file.foff))\n",
    "# N = int(filterbank_file.tsamp / sec_per_spectra)\n",
    "# M = filterbank_file.data.size(0)\n",
    "# print(N)\n",
    "\n",
    "# sk = pybliss.estimators.estimate_spectral_kurtosis(filterbank_file.data, 51, M)\n",
    "\n",
    "# plt.figure()\n",
    "# plt.title(\"Spectral Kurtosis across Channel\")\n",
    "# plt.plot(np.from_dlpack(sk))\n",
    "\n",
    "# plt.plot(np.from_dlpack(sk) > 2)\n",
    "# plt.plot(np.from_dlpack(sk) < 0.05)"
   ]
  },
  {
   "cell_type": "code",
   "execution_count": 53,
   "metadata": {},
   "outputs": [
    {
     "name": "stdout",
     "output_type": "stream",
     "text": [
      "spec kurtosis with M=16 and N=51\n"
     ]
    }
   ],
   "source": [
    "\n",
    "\n",
    "flagged_filterbank = pybliss.flaggers.flag_spectral_kurtosis(filterbank_file, 0.05, 5)\n",
    "\n",
    "flagged_filterbank = pybliss.flaggers.flag_filter_rolloff(filterbank_file, 0.20)\n",
    "\n"
   ]
  },
  {
   "cell_type": "code",
   "execution_count": 54,
   "metadata": {},
   "outputs": [
    {
     "name": "stdout",
     "output_type": "stream",
     "text": [
      "13424144\n",
      "(16, 1048576)\n"
     ]
    },
    {
     "data": {
      "text/plain": [
       "[<matplotlib.lines.Line2D at 0x7f2d0df50dd0>]"
      ]
     },
     "execution_count": 54,
     "metadata": {},
     "output_type": "execute_result"
    },
    {
     "data": {
      "application/vnd.jupyter.widget-view+json": {
       "model_id": "47d231c018ae47bcaed89e81a5788d47",
       "version_major": 2,
       "version_minor": 0
      },
      "image/png": "[encoded data removed]",
      "text/html": [
       "\n",
       "            <div style=\"display: inline-block;\">\n",
       "                <div class=\"jupyter-widgets widget-label\" style=\"text-align: center;\">\n",
       "                    Figure\n",
       "                </div>\n",
       "                <img src='data:image/png;base64,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' width=640.0/>\n",
       "            </div>\n",
       "        "
      ],
      "text/plain": [
       "Canvas(toolbar=Toolbar(toolitems=[('Home', 'Reset original view', 'home', 'home'), ('Back', 'Back to previous …"
      ]
     },
     "metadata": {},
     "output_type": "display_data"
    }
   ],
   "source": [
    "mask = np.from_dlpack(flagged_filterbank.mask)\n",
    "\n",
    "print(mask.sum())\n",
    "print(mask.shape)\n",
    "\n",
    "plt.figure()\n",
    "plt.title(\"Flags across channel\")\n",
    "plt.plot(mask.mean(0))"
   ]
  },
  {
   "cell_type": "code",
   "execution_count": 55,
   "metadata": {},
   "outputs": [
    {
     "name": "stdout",
     "output_type": "stream",
     "text": [
      "(16, 300000)\n"
     ]
    }
   ],
   "source": [
    "noise_est_slice = data_arr[:, 200000:500000]\n",
    "\n",
    "print(noise_est_slice.shape)\n"
   ]
  },
  {
   "cell_type": "code",
   "execution_count": 56,
   "metadata": {},
   "outputs": [
    {
     "name": "stdout",
     "output_type": "stream",
     "text": [
      "5507229.0\n",
      "[5546422.5]\n",
      "5507229.067946667\n"
     ]
    }
   ],
   "source": [
    "print(np.mean(noise_est_slice))\n",
    "m = pybliss.bland.mean(np.array(noise_est_slice))\n",
    "print(np.from_dlpack(m))\n",
    "\n",
    "print(np.sum(noise_est_slice) / noise_est_slice.size)\n",
    "\n",
    "# numpy: 5507229.0\n",
    "# np sum / size: 5507229.067946667\n",
    "\n",
    "# with scale-as-you-go\n",
    "# with float accumulator: 5450137.5\n",
    "# with double accumulator: 5507228.5\n",
    "\n",
    "# with scale-after\n",
    "# with float accumulator: 5546422.5\n",
    "# with double accumulator: 5507227.5\n",
    "\n"
   ]
  },
  {
   "cell_type": "code",
   "execution_count": 57,
   "metadata": {},
   "outputs": [
    {
     "name": "stdout",
     "output_type": "stream",
     "text": [
      "noise magnitude of cropped spectrum: 5.507229\n",
      "noise power of cropped spectrum: 0.565211125\n"
     ]
    }
   ],
   "source": [
    "\n",
    "print(f\"noise magnitude of cropped spectrum: {np.mean(noise_est_slice)/1e6}\")\n",
    "print(f\"noise power of cropped spectrum: {np.std(noise_est_slice)/1e6}\")\n"
   ]
  },
  {
   "cell_type": "code",
   "execution_count": 58,
   "metadata": {},
   "outputs": [
    {
     "name": "stdout",
     "output_type": "stream",
     "text": [
      "noise magnitude of spectrum (estimated without rfi mask): \t5.102699\n",
      "noise power of spectrum (estimated without rfi mask): \t\t12746845.323264\n",
      "---\n",
      "noise magnitude of spectrum (estimated using rfi mask): \t5.183787\n",
      "noise power of spectrum (estimated using rfi mask): \t\t418921.971712\n",
      "---\n",
      "noise magnitude of spectrum (estimated using MAD w/o mask): \t5.296965\n",
      "noise power of spectrum (estimated using MAD w/o mask): \t231595.78624\n",
      "---\n"
     ]
    }
   ],
   "source": [
    "noise_est_options = pybliss.estimators.noise_power_estimate_options()\n",
    "noise_est_options.masked_estimate = False\n",
    "noise_est_options.estimator_method = pybliss.estimators.noise_power_estimator.stddev\n",
    "noise_stats = pybliss.estimators.estimate_noise_power(flagged_filterbank, noise_est_options)\n",
    "\n",
    "print(f\"noise magnitude of spectrum (estimated without rfi mask): \\t{noise_stats.noise_floor/1e6}\")\n",
    "print(f\"noise power of spectrum (estimated without rfi mask): \\t\\t{noise_stats.noise_power/1e6}\")\n",
    "print(\"---\")\n",
    "\n",
    "noise_est_options = pybliss.estimators.noise_power_estimate_options()\n",
    "noise_est_options.masked_estimate = True\n",
    "noise_est_options.estimator_method = pybliss.estimators.noise_power_estimator.stddev\n",
    "noise_stats = pybliss.estimators.estimate_noise_power(flagged_filterbank, noise_est_options)\n",
    "\n",
    "print(f\"noise magnitude of spectrum (estimated using rfi mask): \\t{noise_stats.noise_floor/1e6}\")\n",
    "print(f\"noise power of spectrum (estimated using rfi mask): \\t\\t{noise_stats.noise_power/1e6}\")\n",
    "print(\"---\")\n",
    "\n",
    "noise_est_options = pybliss.estimators.noise_power_estimate_options()\n",
    "noise_est_options.masked_estimate = False\n",
    "noise_est_options.estimator_method = pybliss.estimators.noise_power_estimator.mad\n",
    "noise_stats = pybliss.estimators.estimate_noise_power(flagged_filterbank.data, noise_est_options)\n",
    "\n",
    "print(f\"noise magnitude of spectrum (estimated using MAD w/o mask): \\t{noise_stats.noise_floor/1e6}\")\n",
    "print(f\"noise power of spectrum (estimated using MAD w/o mask): \\t{noise_stats.noise_power/1e6}\")\n",
    "print(\"---\")\n"
   ]
  },
  {
   "cell_type": "code",
   "execution_count": 24,
   "metadata": {},
   "outputs": [
    {
     "name": "stdout",
     "output_type": "stream",
     "text": [
      "5546422.5\n"
     ]
    }
   ],
   "source": [
    "noise_est_options = pybliss.estimators.noise_power_estimate_options()\n",
    "noise_est_options.masked_estimate = False\n",
    "noise_est_options.estimator_method = pybliss.estimators.noise_power_estimator.stddev\n",
    "noise_stats = pybliss.estimators.estimate_noise_power(np.array(noise_est_slice), noise_est_options)\n",
    "\n",
    "print(noise_stats.noise_floor)\n"
   ]
  },
  {
   "cell_type": "code",
   "execution_count": 14,
   "metadata": {},
   "outputs": [
    {
     "ename": "NameError",
     "evalue": "name 'sdf' is not defined",
     "output_type": "error",
     "traceback": [
      "\u001b[0;31m---------------------------------------------------------------------------\u001b[0m",
      "\u001b[0;31mNameError\u001b[0m                                 Traceback (most recent call last)",
      "Cell \u001b[0;32mIn[14], line 1\u001b[0m\n\u001b[0;32m----> 1\u001b[0m \u001b[43msdf\u001b[49m\n",
      "\u001b[0;31mNameError\u001b[0m: name 'sdf' is not defined"
     ]
    }
   ],
   "source": [
    "sdf"
   ]
  },
  {
   "cell_type": "code",
   "execution_count": null,
   "metadata": {},
   "outputs": [],
   "source": [
    "mask = filterbank_file.mask\n",
    "\n",
    "print(mask)\n",
    "\n",
    "# np_mask = np.from_dlpack(mask)\n",
    "\n",
    "# print(np_mask)\n",
    "\n",
    "# plt.figure()\n",
    "# plt.title(\"Mask\")\n",
    "# plt.plot(np_mask.mean(0))\n"
   ]
  },
  {
   "cell_type": "code",
   "execution_count": null,
   "metadata": {},
   "outputs": [],
   "source": []
  },
  {
   "cell_type": "code",
   "execution_count": null,
   "metadata": {},
   "outputs": [],
   "source": []
  },
  {
   "cell_type": "code",
   "execution_count": null,
   "metadata": {},
   "outputs": [],
   "source": []
  },
  {
   "cell_type": "code",
   "execution_count": null,
   "metadata": {},
   "outputs": [],
   "source": []
  },
  {
   "cell_type": "code",
   "execution_count": null,
   "metadata": {},
   "outputs": [],
   "source": [
    "opts = pybliss.integrate_drifts_options()\n",
    "opts.desmear = True\n",
    "opts.low_rate = 0\n",
    "opts.high_rate = 48\n",
    "opts.rate_step_size = 1\n",
    "\n",
    "dedrift = pybliss.drift_search.integrate_drifts(flagged_filterbank, opts)"
   ]
  },
  {
   "cell_type": "code",
   "execution_count": null,
   "metadata": {},
   "outputs": [],
   "source": [
    "det_plane_with_smear_correction = np.from_dlpack(dedrift.dedrifted_spectrum())\n",
    "\n",
    "print(det_plane_with_smear_correction.shape)"
   ]
  },
  {
   "cell_type": "code",
   "execution_count": null,
   "metadata": {},
   "outputs": [],
   "source": [
    "\n",
    "voyager_expect = 660000\n",
    "\n",
    "fig, (ax1, ax2) = plt.subplots(2, 1, sharex=True)\n",
    "\n",
    "\n",
    "ax1.set_title(\"1d detection down max(time) with smear correction\")\n",
    "ax1.plot(det_plane_with_smear_correction[:, voyager_expect-10000:voyager_expect+10000].max(0)/16)\n",
    "plt.margins(0)\n",
    "\n",
    "ax2.set_title(\"2d detection plane with smear correction\")\n",
    "ax2.imshow(det_plane_with_smear_correction[:, voyager_expect-10000:voyager_expect+10000], aspect=\"auto\", interpolation=None, cmap=\"turbo\")\n",
    "\n",
    "\n"
   ]
  },
  {
   "cell_type": "code",
   "execution_count": null,
   "metadata": {},
   "outputs": [],
   "source": [
    "# background:\n",
    "# 5.83e6\n",
    "\n",
    "# carrier:\n",
    "# 1.1323e8\n",
    "\n",
    "# data sidelobes:\n",
    "# 8.92e6\n",
    "# 1.746e7\n",
    "\n",
    "# Estimates:\n",
    "# noise magnitude of spectrum (estimated using rfi mask): \t5.0072325\n",
    "# noise power of spectrum (estimated using rfi mask): \t\t0.738560125\n",
    "\n",
    "\n"
   ]
  },
  {
   "cell_type": "code",
   "execution_count": null,
   "metadata": {},
   "outputs": [],
   "source": [
    "snr = 140\n",
    "\n",
    "8.92e6*8.92e6 / (5.0072325e6 + snr*545471.070208e6)\n"
   ]
  },
  {
   "cell_type": "code",
   "execution_count": null,
   "metadata": {},
   "outputs": [],
   "source": [
    "snr = 10\n",
    "thresh = (5.0072325e6 + snr*545471.070208e6)\n",
    "\n",
    "print(thresh)"
   ]
  },
  {
   "cell_type": "code",
   "execution_count": null,
   "metadata": {},
   "outputs": [],
   "source": [
    "np.log10(140)"
   ]
  },
  {
   "cell_type": "code",
   "execution_count": null,
   "metadata": {},
   "outputs": [],
   "source": [
    "noise_est_slice = data_arr[:, 200000:500000]\n",
    "\n",
    "print(noise_est_slice.shape)\n",
    "\n",
    "print(f\"noise magnitude of cropped spectrum: {np.mean(noise_est_slice)/1e6}\")\n",
    "print(f\"noise power of cropped spectrum: {np.std(noise_est_slice)/1e6}\")\n",
    "\n"
   ]
  },
  {
   "cell_type": "code",
   "execution_count": null,
   "metadata": {},
   "outputs": [],
   "source": [
    "plt.figure()\n",
    "_ = plt.hist(noise_est_slice.flatten(), bins=int(np.power(300000, 1/3)))"
   ]
  }
 ],
 "metadata": {
  "kernelspec": {
   "display_name": ".venv",
   "language": "python",
   "name": "python3"
  },
  "language_info": {
   "codemirror_mode": {
    "name": "ipython",
    "version": 3
   },
   "file_extension": ".py",
   "mimetype": "text/x-python",
   "name": "python",
   "nbconvert_exporter": "python",
   "pygments_lexer": "ipython3",
   "version": "3.11.4"
  }
 },
 "nbformat": 4,
 "nbformat_minor": 2
}
